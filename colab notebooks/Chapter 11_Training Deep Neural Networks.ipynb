{
 "cells": [
  {
   "cell_type": "markdown",
   "metadata": {},
   "source": [
    "# Chapter 11: Training Deep Neural Networks"
   ]
  },
  {
   "cell_type": "markdown",
   "metadata": {},
   "source": [
    "### Summary and Practical Guidlines\n",
    "- in this chapter, we have covered a wide range of techniques, and you may be wondering which ones you should use for a **Default DNN Configuration**\n",
    "- this depends on the task, and there is no clear consensus yet, but the following configuration should generally work just fine: (hyperparameters on the right)\n",
    "---\n",
    "- *Kernel initializer*: He initialization\n",
    "- *Ativation Function*: ELU\n",
    "- *Normalization*: None if shallow; Batch Norm if deep \n",
    "- *Regularization*: Early Stopping (+$l_2$ reg. if needed)\n",
    "- *Optimizer*: Momentum optimization (or RMSProp or Nadam)\n",
    "- *Learning rate schedule*: 1cycle\n",
    "---\n",
    "- if the neural network is a simple stack of dense layers, then it can self-normalize\n",
    "- for a **Self-Normalizing Net DNN Configuration**, look below:\n",
    "---\n",
    "- *Kernel initializer*: LeCun initialization\n",
    "- *Ativation Function*: SELU\n",
    "- *Normalization*: None (self-normalization)\n",
    "- *Regularization*: Alpha dropout if needed\n",
    "- *Optimizer*: Momentum optimization (or RMSProp or Nadam)\n",
    "- *Learning rate schedule*: 1cycle"
   ]
  },
  {
   "cell_type": "markdown",
   "metadata": {},
   "source": [
    "### Useful Tips\n",
    "- don't forget to normalize the input features\n",
    "- always try to reuse parts of a pretrained neural network if you can find one that solves a similar problem\n",
    "- use unsupervised pretraining if you have a lot of unlabeled data\n",
    "- use pretraining on an auxiliary task if you have a lot of labeled data for a similar task"
   ]
  },
  {
   "cell_type": "markdown",
   "metadata": {},
   "source": [
    "### Exceptions to the Previous Guidlines\n",
    "- if you need a **sparse model**, you can use $l_1$ regularization\n",
    "- if you need an even sparser model, you can use the TensorFlow Model Optimization Toolkit\n",
    "---\n",
    "- if you need a **low-latency model** (performs lightning-fast predictions), you may need to use fewer layers, fold the Batch Normalization layers into the previous layers, and possibly use a faster activation function such as leaky ReLU or just ReLU\n",
    "- having a sparse model will also help\n",
    "- finally, you can even reduce the float precision from 32 bits to 16 or even 8 bits\n",
    "---\n",
    "- if you are building a **risk-sensitive application**, or inference latency is not very important in your application, you can use MC Dropout to boost performance and get more reliable probability estimates, along with uncertainty estimates"
   ]
  },
  {
   "cell_type": "markdown",
   "metadata": {},
   "source": [
    "### Concluding Remarks\n",
    "- with these guidlines, you are now ready to train very deep nets\n",
    "- by now, you should be convinced that you can go quite a long way with Keras, but there may come a time, however, when you need even more control\n",
    "- for example, to write a custom loss function or to tweak the training algorithm\n",
    "- for such cases, you will need to use TensorFlow's lower-level API, as we will learn about in the next chapter"
   ]
  },
  {
   "cell_type": "markdown",
   "metadata": {},
   "source": [
    "### Exercises\n",
    "---\n",
    "- 1) *Is it OK to initialize all the weights to the same value as long as that value is selected randomly using He initialization?*\n",
    "---\n",
    "- No, all weights should be sampled independently and not have the same initial value. One important goal of sampling weights randomly is to break symmetry: if all the weights have the same initial value, even if that value is not zero, then symmetry is not broken (all neurons in a given layer are equivalent), and backpropagation will be unable to break it. If every neuron in a layer will always have the same weights, then we're basically working with one neuron per layer, which is much slower and prevents our neural network from convering to a good solution.\n",
    "---\n",
    "- 2) *Is it OK to initialize the bias terms to 0?*    \n",
    "---\n",
    "- Yes, it is perfeclty fine to initialize the bias terms to zero. Some people, however, like to initialize them just like the weights, but that's okay too as both methods have similar impacts. \n",
    "---\n",
    "- 3) *Name three advantages of the SELU activation function over ReLU.*\n",
    "---\n",
    "- Well, unlike ReLU, the SELU activation function can take on negative values, which causes the average output of the neurons in any given layer to be closer to zero than when using ReLU (which never outputs negative values). This helps alleviate the vanishing gradients problem. SELU also always has a nonzero derivative, which avoids the dying neurons (units) issue that can affect ReLU units. Finally, when the conditions are right (the model is sequential, the weights are initialized using LeCun initialization, the inputs are standardized, and there's no incompatible layer or regularization), then the SELU activation function ensures the model is self-normalized, which completely solves the exploding/vanishing gradients problems.\n",
    "---\n",
    "- 4) *In which cases would you want to use each of the following activation functions: SELU, leaky ReLU (and its variants), ReLU, tanh, logistic, and softmax?*\n",
    "---\n",
    "- SELU is a good default, but if you need the neural network to be as fast as possible, you can use one of the leaky ReLU variants. The ReLU activation function is very simple, which makes it a preffered option for many people, however, it is generally outperformed by SELU and leaky ReLU. ReLU, though, can output exactly zero, which can prove useful in some cases. The hyperbolic tangent (tanh) can be useful in the output layer if you need to output a number between -1 and 1, but it us not used much in hidden layers (except in recurrent neural networks). The logistic activation function is also useful in the output layer when you need to estimate a probability (binary classification), but is rarely used in hidden layers. Finally, the softmax activation function is only useful in the output layer to output probabilities for mutually exclusive classes. \n",
    "---\n",
    "- 5) *What may happen if you set the `momentum` hyperparameter too close to 1 (e.g., 0.99999) when using an `SGD` optimizer?*\n",
    "---\n",
    "- If you set the `momentum` hyperparameter too close to 1 when using an `SGD` optimizer, then the algorithm will likely pick up too much speed, causing it to go right past the global minimum. It will eventually converge, but it will take a very long time. Overall, it will take much longer to converge with a value too close to 1 than a smaller value. \n",
    "---\n",
    "- 6) *Name three ways you can produce a sparse model.*\n",
    "---\n",
    "- One way to produce a sparse model (with most weights equal to zero) is to train the model normally, then zero out tiny weights. For more sparsity, you can apply $l_1$ regularization during training, which pushes the optimizer toward sparsity. A third option is to use the TensorFlow Model Optimization Toolkit.\n",
    "---\n",
    "- 7) *Does dropout slow down training? Does it slow down inference (i.e., making predictions on new instances)? What about MC Dropout?* \n",
    "---\n",
    "- Yes, dropout does slow down training by roughly a factor of two. However, it has no impact on inference speed since it is only turned on during training. MC Dropout is exactly like dropout during training, but it is still active during inference, so each inference is slowed down slightly. More importantly, when using MC Dropout you generally want to run inference 10 times or more to get better predictions. This means that making predictions is slowed down by a factor of 10 or more. \n",
    "---\n",
    "- 8) *Practice training a deep neural network on the CIFAR10 iamge dataset:*\n",
    "---"
   ]
  },
  {
   "cell_type": "markdown",
   "metadata": {},
   "source": [
    "*Exercise a): Build a DNN with 20 hidden layers of 100 neurons each (that's too many, but it's the point of this exercise). Use He initialization and the ELU activation function.*"
   ]
  },
  {
   "cell_type": "code",
   "execution_count": 2,
   "metadata": {},
   "outputs": [],
   "source": [
    "# necessary imports\n",
    "import numpy as np\n",
    "import tensorflow as tf \n",
    "from tensorflow import keras \n",
    "\n",
    "# mandatory code before model creation\n",
    "keras.backend.clear_session()\n",
    "tf.random.set_seed(42)\n",
    "np.random.seed(42)\n",
    "\n",
    "# creating model\n",
    "model = keras.models.Sequential()\n",
    "model.add(keras.layers.Flatten(input_shape=[32, 32, 3]))\n",
    "for i in range(20): # 20 hidden layers\n",
    "    model.add(keras.layers.Dense(100, # 100 neurons per layer\n",
    "                                 activation=\"elu\",\n",
    "                                 kernel_initializer=\"he_normal\"))"
   ]
  },
  {
   "cell_type": "markdown",
   "metadata": {},
   "source": [
    "*Exercise b): Using Nadam optimization and early stopping, train the network on the CIFAR10 dataset. You can load it with `keras.datasets.cifar10.load_data()`. The dataset is composed of 60,000 32 × 32–pixel color images (50,000 for training, 10,000 for testing) with 10 classes, so you'll need a softmax output layer with 10 neurons. Remember to search for the right learning rate each time you change the model's architecture or hyperparameters.*"
   ]
  },
  {
   "cell_type": "code",
   "execution_count": 4,
   "metadata": {},
   "outputs": [],
   "source": [
    "# adding the output layer\n",
    "model.add(keras.layers.Dense(10, activation=\"softmax\")) # 10 neurons (10 classes) --> we use softmax as classes are exclusive"
   ]
  },
  {
   "cell_type": "markdown",
   "metadata": {},
   "source": [
    "- we're going to use the Nadam optimizer with a learning rate of 5e-5\n",
    "- much like Adam is essentially RMSprop with momentum, Nadam is Adam with Nesterov momentum\n",
    "- Nadam is one of the most popular optimizers for DNNs\n",
    "---\n",
    "- **to determine the optimal learning rate, you can experiment with various learning rates on 20 epochs and see which one performs the best on the validation set**"
   ]
  },
  {
   "cell_type": "code",
   "execution_count": 5,
   "metadata": {},
   "outputs": [],
   "source": [
    "optimizer = keras.optimizers.Nadam(lr=5e-5) # setting the optimizer\n",
    "model.compile(loss=\"sparse_categorical_crossentropy\", # as this is a classification task\n",
    "              optimizer=optimizer,\n",
    "              metrics=[\"accuracy\"]) "
   ]
  },
  {
   "cell_type": "markdown",
   "metadata": {},
   "source": [
    "- let's load the CIFAR10 dataset\n",
    "- we also want to use early (for regularization) stopping, so we need a validation set\n",
    "- let's use the first 5,000 images of the original training set as the validation set:"
   ]
  },
  {
   "cell_type": "code",
   "execution_count": 3,
   "metadata": {},
   "outputs": [],
   "source": [
    "(X_train_full, y_train_full), (X_test, y_test) = keras.datasets.cifar10.load_data() # getting the data"
   ]
  },
  {
   "cell_type": "code",
   "execution_count": 4,
   "metadata": {},
   "outputs": [],
   "source": [
    "# creating a validation set from our training set\n",
    "X_train = X_train_full[5000:]\n",
    "y_train = y_train_full[5000:]\n",
    "X_valid = X_train_full[:5000] # first 5,000 images from training dataset\n",
    "y_valid = y_train_full[:5000]"
   ]
  },
  {
   "cell_type": "code",
   "execution_count": 5,
   "metadata": {},
   "outputs": [
    {
     "output_type": "execute_result",
     "data": {
      "text/plain": "(45000, 32, 32, 3)"
     },
     "metadata": {},
     "execution_count": 5
    }
   ],
   "source": [
    "X_train.shape # here is how we dictate the input shape "
   ]
  },
  {
   "cell_type": "markdown",
   "metadata": {},
   "source": [
    "- now let's create the callbacks and train our model:"
   ]
  },
  {
   "cell_type": "code",
   "execution_count": 8,
   "metadata": {},
   "outputs": [],
   "source": [
    "# creating the necessary callbacks\n",
    "early_stopping_cb = keras.callbacks.EarlyStopping(patience=20)\n",
    "model_checkpoint_cb = keras.callbacks.ModelCheckpoint(\"my_cifar10_model.h5\", save_best_only=True)\n",
    "callbacks = [early_stopping_cb, model_checkpoint_cb]"
   ]
  },
  {
   "cell_type": "code",
   "execution_count": 20,
   "metadata": {},
   "outputs": [
    {
     "output_type": "stream",
     "name": "stdout",
     "text": "Train on 45000 samples, validate on 5000 samples\nEpoch 1/100\n45000/45000 [==============================] - 12s 271us/sample - loss: 4.1776 - accuracy: 0.1661 - val_loss: 2.1598 - val_accuracy: 0.2154\nEpoch 2/100\n45000/45000 [==============================] - 11s 237us/sample - loss: 2.0466 - accuracy: 0.2472 - val_loss: 1.9641 - val_accuracy: 0.2762\nEpoch 3/100\n45000/45000 [==============================] - 11s 237us/sample - loss: 1.9367 - accuracy: 0.2904 - val_loss: 1.9173 - val_accuracy: 0.2926\nEpoch 4/100\n45000/45000 [==============================] - 10s 232us/sample - loss: 1.8654 - accuracy: 0.3196 - val_loss: 1.8039 - val_accuracy: 0.3420\nEpoch 5/100\n45000/45000 [==============================] - 11s 254us/sample - loss: 1.8025 - accuracy: 0.3436 - val_loss: 1.8685 - val_accuracy: 0.3312\nEpoch 6/100\n45000/45000 [==============================] - 11s 248us/sample - loss: 1.7535 - accuracy: 0.3629 - val_loss: 1.7461 - val_accuracy: 0.3740\nEpoch 7/100\n45000/45000 [==============================] - 10s 229us/sample - loss: 1.7116 - accuracy: 0.3794 - val_loss: 1.7258 - val_accuracy: 0.3768\nEpoch 8/100\n45000/45000 [==============================] - 12s 270us/sample - loss: 1.6707 - accuracy: 0.3948 - val_loss: 1.7591 - val_accuracy: 0.3474\nEpoch 9/100\n45000/45000 [==============================] - 12s 268us/sample - loss: 1.6426 - accuracy: 0.4047 - val_loss: 1.6393 - val_accuracy: 0.4118\nEpoch 10/100\n45000/45000 [==============================] - 12s 266us/sample - loss: 1.6102 - accuracy: 0.4190 - val_loss: 1.6522 - val_accuracy: 0.4014\nEpoch 11/100\n45000/45000 [==============================] - 12s 278us/sample - loss: 1.5898 - accuracy: 0.4270 - val_loss: 1.6105 - val_accuracy: 0.4170\nEpoch 12/100\n45000/45000 [==============================] - 12s 273us/sample - loss: 1.5680 - accuracy: 0.4338 - val_loss: 1.6576 - val_accuracy: 0.4048\nEpoch 13/100\n45000/45000 [==============================] - 12s 277us/sample - loss: 1.5512 - accuracy: 0.4421 - val_loss: 1.5914 - val_accuracy: 0.4288\nEpoch 14/100\n45000/45000 [==============================] - 11s 243us/sample - loss: 1.5319 - accuracy: 0.4464 - val_loss: 1.6137 - val_accuracy: 0.4162\nEpoch 15/100\n45000/45000 [==============================] - 11s 245us/sample - loss: 1.5157 - accuracy: 0.4536 - val_loss: 1.5803 - val_accuracy: 0.4296\nEpoch 16/100\n45000/45000 [==============================] - 11s 249us/sample - loss: 1.4979 - accuracy: 0.4588 - val_loss: 1.5781 - val_accuracy: 0.4344\nEpoch 17/100\n45000/45000 [==============================] - 11s 248us/sample - loss: 1.4820 - accuracy: 0.4636 - val_loss: 1.5964 - val_accuracy: 0.4266\nEpoch 18/100\n45000/45000 [==============================] - 9s 210us/sample - loss: 1.4669 - accuracy: 0.4711 - val_loss: 1.5501 - val_accuracy: 0.4462\nEpoch 19/100\n45000/45000 [==============================] - 9s 200us/sample - loss: 1.4546 - accuracy: 0.4766 - val_loss: 1.5757 - val_accuracy: 0.4392\nEpoch 20/100\n45000/45000 [==============================] - 9s 208us/sample - loss: 1.4407 - accuracy: 0.4829 - val_loss: 1.5389 - val_accuracy: 0.4482\nEpoch 21/100\n45000/45000 [==============================] - 9s 205us/sample - loss: 1.4284 - accuracy: 0.4852 - val_loss: 1.5861 - val_accuracy: 0.4348\nEpoch 22/100\n45000/45000 [==============================] - 9s 210us/sample - loss: 1.4182 - accuracy: 0.4933 - val_loss: 1.6023 - val_accuracy: 0.4158\nEpoch 23/100\n45000/45000 [==============================] - 10s 214us/sample - loss: 1.4062 - accuracy: 0.4961 - val_loss: 1.5299 - val_accuracy: 0.4518\nEpoch 24/100\n45000/45000 [==============================] - 9s 206us/sample - loss: 1.3911 - accuracy: 0.4994 - val_loss: 1.5759 - val_accuracy: 0.4396\nEpoch 25/100\n45000/45000 [==============================] - 9s 192us/sample - loss: 1.3839 - accuracy: 0.5046 - val_loss: 1.5461 - val_accuracy: 0.4502\nEpoch 26/100\n45000/45000 [==============================] - 9s 196us/sample - loss: 1.3753 - accuracy: 0.5034 - val_loss: 1.5267 - val_accuracy: 0.4602\nEpoch 27/100\n45000/45000 [==============================] - 13s 280us/sample - loss: 1.3644 - accuracy: 0.5093 - val_loss: 1.5546 - val_accuracy: 0.4494\nEpoch 28/100\n45000/45000 [==============================] - 12s 260us/sample - loss: 1.3547 - accuracy: 0.5127 - val_loss: 1.5486 - val_accuracy: 0.4566\nEpoch 29/100\n45000/45000 [==============================] - 11s 246us/sample - loss: 1.3408 - accuracy: 0.5159 - val_loss: 1.5178 - val_accuracy: 0.4636\nEpoch 30/100\n45000/45000 [==============================] - 11s 246us/sample - loss: 1.3352 - accuracy: 0.5197 - val_loss: 1.5146 - val_accuracy: 0.4712\nEpoch 31/100\n45000/45000 [==============================] - 11s 251us/sample - loss: 1.3268 - accuracy: 0.5236 - val_loss: 1.5249 - val_accuracy: 0.4570\nEpoch 32/100\n45000/45000 [==============================] - 12s 257us/sample - loss: 1.3191 - accuracy: 0.5260 - val_loss: 1.5119 - val_accuracy: 0.4674\nEpoch 33/100\n45000/45000 [==============================] - 11s 248us/sample - loss: 1.3083 - accuracy: 0.5302 - val_loss: 1.5171 - val_accuracy: 0.4646\nEpoch 34/100\n45000/45000 [==============================] - 11s 250us/sample - loss: 1.3021 - accuracy: 0.5316 - val_loss: 1.5081 - val_accuracy: 0.4670\nEpoch 35/100\n45000/45000 [==============================] - 9s 205us/sample - loss: 1.2913 - accuracy: 0.5379 - val_loss: 1.5162 - val_accuracy: 0.4714\nEpoch 36/100\n45000/45000 [==============================] - 9s 203us/sample - loss: 1.2833 - accuracy: 0.5401 - val_loss: 1.4917 - val_accuracy: 0.4736\nEpoch 37/100\n45000/45000 [==============================] - 9s 199us/sample - loss: 1.2784 - accuracy: 0.5409 - val_loss: 1.5201 - val_accuracy: 0.4748\nEpoch 38/100\n45000/45000 [==============================] - 9s 199us/sample - loss: 1.2682 - accuracy: 0.5457 - val_loss: 1.5178 - val_accuracy: 0.4774\nEpoch 39/100\n45000/45000 [==============================] - 9s 198us/sample - loss: 1.2628 - accuracy: 0.5457 - val_loss: 1.5255 - val_accuracy: 0.4624\nEpoch 40/100\n45000/45000 [==============================] - 9s 200us/sample - loss: 1.2504 - accuracy: 0.5494 - val_loss: 1.5265 - val_accuracy: 0.4728\nEpoch 41/100\n45000/45000 [==============================] - 9s 200us/sample - loss: 1.2476 - accuracy: 0.5524 - val_loss: 1.5695 - val_accuracy: 0.4630\nEpoch 42/100\n45000/45000 [==============================] - 9s 199us/sample - loss: 1.2390 - accuracy: 0.5540 - val_loss: 1.5170 - val_accuracy: 0.4732\nEpoch 43/100\n45000/45000 [==============================] - 9s 200us/sample - loss: 1.2304 - accuracy: 0.5596 - val_loss: 1.5244 - val_accuracy: 0.4754\nEpoch 44/100\n45000/45000 [==============================] - 9s 201us/sample - loss: 1.2264 - accuracy: 0.5600 - val_loss: 1.5239 - val_accuracy: 0.4746\nEpoch 45/100\n45000/45000 [==============================] - 9s 199us/sample - loss: 1.2181 - accuracy: 0.5631 - val_loss: 1.5429 - val_accuracy: 0.4734\nEpoch 46/100\n45000/45000 [==============================] - 9s 199us/sample - loss: 1.2109 - accuracy: 0.5691 - val_loss: 1.5128 - val_accuracy: 0.4830\nEpoch 47/100\n45000/45000 [==============================] - 10s 214us/sample - loss: 1.2035 - accuracy: 0.5690 - val_loss: 1.5738 - val_accuracy: 0.4626\nEpoch 48/100\n45000/45000 [==============================] - 10s 228us/sample - loss: 1.1970 - accuracy: 0.5671 - val_loss: 1.5430 - val_accuracy: 0.4658\nEpoch 49/100\n45000/45000 [==============================] - 10s 214us/sample - loss: 1.1895 - accuracy: 0.5720 - val_loss: 1.5272 - val_accuracy: 0.4768\nEpoch 50/100\n45000/45000 [==============================] - 9s 209us/sample - loss: 1.1805 - accuracy: 0.5768 - val_loss: 1.5974 - val_accuracy: 0.4556\nEpoch 51/100\n45000/45000 [==============================] - 10s 212us/sample - loss: 1.1737 - accuracy: 0.5770 - val_loss: 1.5528 - val_accuracy: 0.4736\nEpoch 52/100\n45000/45000 [==============================] - 9s 198us/sample - loss: 1.1663 - accuracy: 0.5808 - val_loss: 1.5458 - val_accuracy: 0.4754\nEpoch 53/100\n45000/45000 [==============================] - 9s 198us/sample - loss: 1.1625 - accuracy: 0.5837 - val_loss: 1.6394 - val_accuracy: 0.4522\nEpoch 54/100\n45000/45000 [==============================] - 9s 203us/sample - loss: 1.1551 - accuracy: 0.5854 - val_loss: 1.5785 - val_accuracy: 0.4718\nEpoch 55/100\n45000/45000 [==============================] - 9s 210us/sample - loss: 1.1496 - accuracy: 0.5864 - val_loss: 1.5802 - val_accuracy: 0.4772\nEpoch 56/100\n45000/45000 [==============================] - 12s 267us/sample - loss: 1.1418 - accuracy: 0.5900 - val_loss: 1.5772 - val_accuracy: 0.4698\n"
    },
    {
     "output_type": "execute_result",
     "data": {
      "text/plain": "<tensorflow.python.keras.callbacks.History at 0x2275bd0a080>"
     },
     "metadata": {},
     "execution_count": 20
    }
   ],
   "source": [
    "# training the model\n",
    "model.fit(X_train, y_train, epochs=100,\n",
    "          validation_data=(X_valid, y_valid),\n",
    "          callbacks=callbacks)"
   ]
  },
  {
   "cell_type": "code",
   "execution_count": 11,
   "metadata": {},
   "outputs": [
    {
     "output_type": "stream",
     "name": "stdout",
     "text": "5000/5000 [==============================] - 0s 99us/sample - loss: 1.4917 - accuracy: 0.4736\n"
    },
    {
     "output_type": "execute_result",
     "data": {
      "text/plain": "[1.4917475807189942, 0.4736]"
     },
     "metadata": {},
     "execution_count": 11
    }
   ],
   "source": [
    "# evaluating best model on validation set\n",
    "model = keras.models.load_model(\"my_cifar10_model.h5\")\n",
    "model.evaluate(X_valid, y_valid)"
   ]
  },
  {
   "cell_type": "markdown",
   "metadata": {},
   "source": [
    "- the model with the lowest validation loss gets about 47% accuracy on the validation set\n",
    "- it took 56 epochs to reach the lowest validation loss, with roughly 10 seconds per epoch\n",
    "- let's see if we can improve performance using Batch Normalization:"
   ]
  },
  {
   "cell_type": "markdown",
   "metadata": {},
   "source": [
    "*Exercise c): Now try adding Batch Normalization and compare the learning curves: Is it converging faster than before? Does it produce a better model? How does it affect training speed?*"
   ]
  },
  {
   "cell_type": "code",
   "execution_count": 12,
   "metadata": {},
   "outputs": [],
   "source": [
    "# mandatory code before model creation\n",
    "keras.backend.clear_session()\n",
    "tf.random.set_seed(42)\n",
    "np.random.seed(42)\n",
    "\n",
    "# model creation\n",
    "model = keras.models.Sequential()\n",
    "model.add(keras.layers.Flatten(input_shape=[32, 32, 3]))\n",
    "model.add(keras.layers.BatchNormalization()) # added a BN layer before the first hidden layer\n",
    "for _ in range(20):\n",
    "    model.add(keras.layers.Dense(100, kernel_initializer=\"he_normal\"))\n",
    "    model.add(keras.layers.BatchNormalization()) # added a BN layer after every Dense layer (before the activation function)\n",
    "    model.add(keras.layers.Activation(\"elu\"))\n",
    "model.add(keras.layers.Dense(10, activation=\"softmax\"))\n",
    "\n",
    "# changed the learning rate to 5e-4 \n",
    "# experimented with 1e-5, 3e-5, 5e-5, 1e-4, 3e-4, 5e-4, 1e-3 and 3e-3, and chose the one with the best validation performance after 20 epochs\n",
    "optimizer = keras.optimizers.Nadam(lr=5e-4)\n",
    "model.compile(loss=\"sparse_categorical_crossentropy\",\n",
    "              optimizer=optimizer,\n",
    "              metrics=[\"accuracy\"])\n",
    "\n",
    "early_stopping_cb = keras.callbacks.EarlyStopping(patience=20)\n",
    "model_checkpoint_cb = keras.callbacks.ModelCheckpoint(\"my_cifar10_bn_model.h5\", save_best_only=True)\n",
    "callbacks = [early_stopping_cb, model_checkpoint_cb]"
   ]
  },
  {
   "cell_type": "code",
   "execution_count": 13,
   "metadata": {},
   "outputs": [
    {
     "output_type": "stream",
     "name": "stdout",
     "text": "Train on 45000 samples, validate on 5000 samples\nEpoch 1/100\n45000/45000 [==============================] - 21s 466us/sample - loss: 1.8271 - accuracy: 0.3455 - val_loss: 1.6206 - val_accuracy: 0.4152\nEpoch 2/100\n45000/45000 [==============================] - 17s 375us/sample - loss: 1.6550 - accuracy: 0.4105 - val_loss: 1.5951 - val_accuracy: 0.4324\nEpoch 3/100\n45000/45000 [==============================] - 17s 369us/sample - loss: 1.5901 - accuracy: 0.4354 - val_loss: 1.5230 - val_accuracy: 0.4594\nEpoch 4/100\n45000/45000 [==============================] - 17s 369us/sample - loss: 1.5396 - accuracy: 0.4550 - val_loss: 1.4592 - val_accuracy: 0.4772\nEpoch 5/100\n45000/45000 [==============================] - 18s 396us/sample - loss: 1.4979 - accuracy: 0.4665 - val_loss: 1.4451 - val_accuracy: 0.4846\nEpoch 6/100\n45000/45000 [==============================] - 18s 406us/sample - loss: 1.4596 - accuracy: 0.4788 - val_loss: 1.4400 - val_accuracy: 0.4872\nEpoch 7/100\n45000/45000 [==============================] - 17s 386us/sample - loss: 1.4326 - accuracy: 0.4933 - val_loss: 1.4087 - val_accuracy: 0.4990\nEpoch 8/100\n45000/45000 [==============================] - 16s 358us/sample - loss: 1.4055 - accuracy: 0.5021 - val_loss: 1.3837 - val_accuracy: 0.5152\nEpoch 9/100\n45000/45000 [==============================] - 15s 342us/sample - loss: 1.3773 - accuracy: 0.5128 - val_loss: 1.3793 - val_accuracy: 0.5072\nEpoch 10/100\n45000/45000 [==============================] - 15s 330us/sample - loss: 1.3544 - accuracy: 0.5198 - val_loss: 1.3548 - val_accuracy: 0.5180\nEpoch 11/100\n45000/45000 [==============================] - 15s 324us/sample - loss: 1.3371 - accuracy: 0.5255 - val_loss: 1.3655 - val_accuracy: 0.5188\nEpoch 12/100\n45000/45000 [==============================] - 15s 335us/sample - loss: 1.3158 - accuracy: 0.5349 - val_loss: 1.3776 - val_accuracy: 0.5170\nEpoch 13/100\n45000/45000 [==============================] - 16s 354us/sample - loss: 1.3016 - accuracy: 0.5414 - val_loss: 1.3465 - val_accuracy: 0.5288\nEpoch 14/100\n45000/45000 [==============================] - 18s 404us/sample - loss: 1.2795 - accuracy: 0.5458 - val_loss: 1.3714 - val_accuracy: 0.5188\nEpoch 15/100\n45000/45000 [==============================] - 15s 333us/sample - loss: 1.2695 - accuracy: 0.5497 - val_loss: 1.4033 - val_accuracy: 0.5092\nEpoch 16/100\n45000/45000 [==============================] - 14s 318us/sample - loss: 1.2476 - accuracy: 0.5563 - val_loss: 1.3593 - val_accuracy: 0.5190\nEpoch 17/100\n45000/45000 [==============================] - 18s 400us/sample - loss: 1.2323 - accuracy: 0.5652 - val_loss: 1.3507 - val_accuracy: 0.5330\nEpoch 18/100\n45000/45000 [==============================] - 18s 411us/sample - loss: 1.2206 - accuracy: 0.5684 - val_loss: 1.3171 - val_accuracy: 0.5366\nEpoch 19/100\n45000/45000 [==============================] - 16s 364us/sample - loss: 1.2023 - accuracy: 0.5756 - val_loss: 1.3117 - val_accuracy: 0.5424\nEpoch 20/100\n45000/45000 [==============================] - 16s 347us/sample - loss: 1.1943 - accuracy: 0.5749 - val_loss: 1.3388 - val_accuracy: 0.5282\nEpoch 21/100\n45000/45000 [==============================] - 19s 417us/sample - loss: 1.1828 - accuracy: 0.5812 - val_loss: 1.3415 - val_accuracy: 0.5324\nEpoch 22/100\n45000/45000 [==============================] - 17s 382us/sample - loss: 1.1704 - accuracy: 0.5854 - val_loss: 1.3501 - val_accuracy: 0.5316\nEpoch 23/100\n45000/45000 [==============================] - 16s 348us/sample - loss: 1.1569 - accuracy: 0.5914 - val_loss: 1.3212 - val_accuracy: 0.5402\nEpoch 24/100\n45000/45000 [==============================] - 15s 339us/sample - loss: 1.1385 - accuracy: 0.5989 - val_loss: 1.3206 - val_accuracy: 0.5336\nEpoch 25/100\n45000/45000 [==============================] - 16s 354us/sample - loss: 1.1290 - accuracy: 0.5990 - val_loss: 1.3280 - val_accuracy: 0.5406\nEpoch 26/100\n45000/45000 [==============================] - 19s 427us/sample - loss: 1.1218 - accuracy: 0.6032 - val_loss: 1.3146 - val_accuracy: 0.5416\nEpoch 27/100\n45000/45000 [==============================] - 19s 426us/sample - loss: 1.1038 - accuracy: 0.6115 - val_loss: 1.3346 - val_accuracy: 0.5304\nEpoch 28/100\n45000/45000 [==============================] - 19s 426us/sample - loss: 1.0921 - accuracy: 0.6132 - val_loss: 1.3709 - val_accuracy: 0.5236\nEpoch 29/100\n45000/45000 [==============================] - 19s 421us/sample - loss: 1.0857 - accuracy: 0.6142 - val_loss: 1.3031 - val_accuracy: 0.5424\nEpoch 30/100\n45000/45000 [==============================] - 19s 412us/sample - loss: 1.0746 - accuracy: 0.6211 - val_loss: 1.3067 - val_accuracy: 0.5524\nEpoch 31/100\n45000/45000 [==============================] - 19s 421us/sample - loss: 1.0639 - accuracy: 0.6220 - val_loss: 1.3448 - val_accuracy: 0.5414\nEpoch 32/100\n45000/45000 [==============================] - 19s 429us/sample - loss: 1.0514 - accuracy: 0.6298 - val_loss: 1.3451 - val_accuracy: 0.5420\nEpoch 33/100\n45000/45000 [==============================] - 16s 359us/sample - loss: 1.0471 - accuracy: 0.6309 - val_loss: 1.3344 - val_accuracy: 0.5436\nEpoch 34/100\n45000/45000 [==============================] - 16s 360us/sample - loss: 1.0302 - accuracy: 0.6360 - val_loss: 1.3586 - val_accuracy: 0.5440\nEpoch 35/100\n45000/45000 [==============================] - 16s 358us/sample - loss: 1.0308 - accuracy: 0.6319 - val_loss: 1.3838 - val_accuracy: 0.5372\nEpoch 36/100\n45000/45000 [==============================] - 18s 392us/sample - loss: 1.0137 - accuracy: 0.6419 - val_loss: 1.3382 - val_accuracy: 0.5430\nEpoch 37/100\n45000/45000 [==============================] - 17s 379us/sample - loss: 1.0056 - accuracy: 0.6419 - val_loss: 1.3300 - val_accuracy: 0.5482\nEpoch 38/100\n45000/45000 [==============================] - 17s 380us/sample - loss: 0.9956 - accuracy: 0.6478 - val_loss: 1.3585 - val_accuracy: 0.5388\nEpoch 39/100\n45000/45000 [==============================] - 17s 381us/sample - loss: 0.9914 - accuracy: 0.6471 - val_loss: 1.3458 - val_accuracy: 0.5432\nEpoch 40/100\n45000/45000 [==============================] - 17s 386us/sample - loss: 0.9796 - accuracy: 0.6533 - val_loss: 1.3979 - val_accuracy: 0.5302\nEpoch 41/100\n45000/45000 [==============================] - 16s 346us/sample - loss: 0.9683 - accuracy: 0.6569 - val_loss: 1.3535 - val_accuracy: 0.5432\nEpoch 42/100\n45000/45000 [==============================] - 15s 333us/sample - loss: 0.9637 - accuracy: 0.6608 - val_loss: 1.3910 - val_accuracy: 0.5430\nEpoch 43/100\n45000/45000 [==============================] - 15s 336us/sample - loss: 0.9538 - accuracy: 0.6626 - val_loss: 1.3667 - val_accuracy: 0.5388\nEpoch 44/100\n45000/45000 [==============================] - 16s 354us/sample - loss: 0.9386 - accuracy: 0.6658 - val_loss: 1.3437 - val_accuracy: 0.5518\nEpoch 45/100\n45000/45000 [==============================] - 16s 348us/sample - loss: 0.9329 - accuracy: 0.6683 - val_loss: 1.3905 - val_accuracy: 0.5358\nEpoch 46/100\n45000/45000 [==============================] - 15s 336us/sample - loss: 0.9216 - accuracy: 0.6776 - val_loss: 1.3715 - val_accuracy: 0.5472\nEpoch 47/100\n45000/45000 [==============================] - 15s 335us/sample - loss: 0.9188 - accuracy: 0.6765 - val_loss: 1.3460 - val_accuracy: 0.5490\nEpoch 48/100\n45000/45000 [==============================] - 16s 348us/sample - loss: 0.9153 - accuracy: 0.6738 - val_loss: 1.3829 - val_accuracy: 0.5412\nEpoch 49/100\n45000/45000 [==============================] - 15s 334us/sample - loss: 0.9046 - accuracy: 0.6815 - val_loss: 1.3870 - val_accuracy: 0.5468\n5000/5000 [==============================] - 1s 155us/sample - loss: 1.3031 - accuracy: 0.5424\n"
    },
    {
     "output_type": "execute_result",
     "data": {
      "text/plain": "[1.303136032295227, 0.5424]"
     },
     "metadata": {},
     "execution_count": 13
    }
   ],
   "source": [
    "model.fit(X_train, y_train, epochs=100,\n",
    "          validation_data=(X_valid, y_valid),\n",
    "          callbacks=callbacks)\n",
    "\n",
    "model = keras.models.load_model(\"my_cifar10_bn_model.h5\")\n",
    "model.evaluate(X_valid, y_valid)"
   ]
  },
  {
   "cell_type": "markdown",
   "metadata": {},
   "source": [
    "- the previous model took 56 epochs to reach the lowest validation loss, while this new model with batch normalization took 49 epochs\n",
    "- the BN layers stabilized training and allowed us to use a much larger learning rate (5e-4), so convergence was faster\n",
    "---\n",
    "- this model is much better, with 54% accuracy instead of 47%\n",
    "- it's still not a very good model, but at least it's much better than before (a Convolutional Neural Network would do much better, but that's a different topic, see chapter 14)\n",
    "---\n",
    "- although the model converged faster (took less epochs to reach optimum), each epoch took about 16s instead of 10s (because of the extra computations required by the BN layers)\n",
    "- so overall, although the number of epochs was reduced, the training time (wall time) was longer"
   ]
  },
  {
   "cell_type": "markdown",
   "metadata": {},
   "source": [
    "*Exercise d): Try replacing Batch Normalization with SELU, and make the necessary adjustements to ensure the network self-normalizes (i.e., standardize the input features, use LeCun normal initialization, make sure the DNN contains only a sequence of dense layers, etc.).*"
   ]
  },
  {
   "cell_type": "code",
   "execution_count": 15,
   "metadata": {},
   "outputs": [],
   "source": [
    "# made the necessary adjustements to ensure the network self-normalizes\n",
    "keras.backend.clear_session()\n",
    "tf.random.set_seed(42)\n",
    "np.random.seed(42)\n",
    "\n",
    "model = keras.models.Sequential()\n",
    "model.add(keras.layers.Flatten(input_shape=[32, 32, 3]))\n",
    "for _ in range(20):\n",
    "    model.add(keras.layers.Dense(100,\n",
    "                                 kernel_initializer=\"lecun_normal\", # using LeCun normal initialization\n",
    "                                 activation=\"selu\")) # using SELU activation function\n",
    "model.add(keras.layers.Dense(10, activation=\"softmax\"))\n",
    "\n",
    "optimizer = keras.optimizers.Nadam(lr=7e-4) # adjusted learning rate\n",
    "model.compile(loss=\"sparse_categorical_crossentropy\",\n",
    "              optimizer=optimizer,\n",
    "              metrics=[\"accuracy\"])\n",
    "\n",
    "early_stopping_cb = keras.callbacks.EarlyStopping(patience=20) # interestingly enough, we are using early stopping for regularization\n",
    "model_checkpoint_cb = keras.callbacks.ModelCheckpoint(\"my_cifar10_selu_model.h5\", save_best_only=True)\n",
    "callbacks = [early_stopping_cb, model_checkpoint_cb]\n",
    "\n",
    "# standardizing the input features\n",
    "X_means = X_train.mean(axis=0)\n",
    "X_stds = X_train.std(axis=0)\n",
    "X_train_scaled = (X_train - X_means) / X_stds\n",
    "X_valid_scaled = (X_valid - X_means) / X_stds\n",
    "X_test_scaled = (X_test - X_means) / X_stds"
   ]
  },
  {
   "cell_type": "code",
   "execution_count": 16,
   "metadata": {},
   "outputs": [
    {
     "output_type": "stream",
     "name": "stdout",
     "text": "Train on 45000 samples, validate on 5000 samples\nEpoch 1/100\n45000/45000 [==============================] - 13s 288us/sample - loss: 1.9385 - accuracy: 0.3026 - val_loss: 1.9024 - val_accuracy: 0.3282\nEpoch 2/100\n45000/45000 [==============================] - 10s 231us/sample - loss: 1.7228 - accuracy: 0.3848 - val_loss: 1.8796 - val_accuracy: 0.3574\nEpoch 3/100\n45000/45000 [==============================] - 10s 232us/sample - loss: 1.6254 - accuracy: 0.4246 - val_loss: 1.6974 - val_accuracy: 0.4210\nEpoch 4/100\n45000/45000 [==============================] - 10s 231us/sample - loss: 1.5590 - accuracy: 0.4507 - val_loss: 1.6471 - val_accuracy: 0.4156\nEpoch 5/100\n45000/45000 [==============================] - 11s 239us/sample - loss: 1.5064 - accuracy: 0.4702 - val_loss: 1.5681 - val_accuracy: 0.4526\nEpoch 6/100\n45000/45000 [==============================] - 11s 239us/sample - loss: 1.4538 - accuracy: 0.4912 - val_loss: 1.5451 - val_accuracy: 0.4600\nEpoch 7/100\n45000/45000 [==============================] - 11s 237us/sample - loss: 1.4129 - accuracy: 0.5044 - val_loss: 1.5372 - val_accuracy: 0.4590\nEpoch 8/100\n45000/45000 [==============================] - 11s 235us/sample - loss: 1.3697 - accuracy: 0.5204 - val_loss: 1.5064 - val_accuracy: 0.4778\nEpoch 9/100\n45000/45000 [==============================] - 11s 237us/sample - loss: 1.3324 - accuracy: 0.5330 - val_loss: 1.4899 - val_accuracy: 0.4834\nEpoch 10/100\n45000/45000 [==============================] - 11s 236us/sample - loss: 1.2986 - accuracy: 0.5482 - val_loss: 1.4785 - val_accuracy: 0.4844\nEpoch 11/100\n45000/45000 [==============================] - 11s 235us/sample - loss: 1.2706 - accuracy: 0.5587 - val_loss: 1.5257 - val_accuracy: 0.4836\nEpoch 12/100\n45000/45000 [==============================] - 11s 235us/sample - loss: 1.2478 - accuracy: 0.5651 - val_loss: 1.5016 - val_accuracy: 0.4976\nEpoch 13/100\n45000/45000 [==============================] - 11s 240us/sample - loss: 1.2222 - accuracy: 0.5774 - val_loss: 1.4705 - val_accuracy: 0.5098\nEpoch 14/100\n45000/45000 [==============================] - 11s 238us/sample - loss: 1.1927 - accuracy: 0.5862 - val_loss: 1.4911 - val_accuracy: 0.4882\nEpoch 15/100\n45000/45000 [==============================] - 11s 237us/sample - loss: 1.1683 - accuracy: 0.5960 - val_loss: 1.5159 - val_accuracy: 0.4950\nEpoch 16/100\n45000/45000 [==============================] - 11s 242us/sample - loss: 1.1477 - accuracy: 0.6018 - val_loss: 1.5072 - val_accuracy: 0.4952\nEpoch 17/100\n45000/45000 [==============================] - 11s 239us/sample - loss: 1.1246 - accuracy: 0.6079 - val_loss: 1.4709 - val_accuracy: 0.5118\nEpoch 18/100\n45000/45000 [==============================] - 10s 216us/sample - loss: 1.1023 - accuracy: 0.6209 - val_loss: 1.5060 - val_accuracy: 0.4990\nEpoch 19/100\n45000/45000 [==============================] - 10s 218us/sample - loss: 1.0852 - accuracy: 0.6268 - val_loss: 1.5178 - val_accuracy: 0.5092\nEpoch 20/100\n45000/45000 [==============================] - 9s 210us/sample - loss: 1.0720 - accuracy: 0.6296 - val_loss: 1.4779 - val_accuracy: 0.4952\nEpoch 21/100\n45000/45000 [==============================] - 9s 207us/sample - loss: 1.0349 - accuracy: 0.6439 - val_loss: 1.5657 - val_accuracy: 0.4998\nEpoch 22/100\n45000/45000 [==============================] - 9s 207us/sample - loss: 1.0237 - accuracy: 0.6461 - val_loss: 1.5741 - val_accuracy: 0.5000\nEpoch 23/100\n45000/45000 [==============================] - 9s 208us/sample - loss: 1.0058 - accuracy: 0.6565 - val_loss: 1.5109 - val_accuracy: 0.5064\nEpoch 24/100\n45000/45000 [==============================] - 9s 209us/sample - loss: 0.9860 - accuracy: 0.6610 - val_loss: 1.5173 - val_accuracy: 0.5070\nEpoch 25/100\n45000/45000 [==============================] - 9s 208us/sample - loss: 0.9656 - accuracy: 0.6726 - val_loss: 1.5650 - val_accuracy: 0.5100\nEpoch 26/100\n45000/45000 [==============================] - 9s 210us/sample - loss: 0.9637 - accuracy: 0.6725 - val_loss: 1.6117 - val_accuracy: 0.5110\nEpoch 27/100\n45000/45000 [==============================] - 11s 241us/sample - loss: 0.9415 - accuracy: 0.6796 - val_loss: 1.6235 - val_accuracy: 0.4996\nEpoch 28/100\n45000/45000 [==============================] - 11s 247us/sample - loss: 0.9644 - accuracy: 0.6730 - val_loss: 1.6038 - val_accuracy: 0.5058\nEpoch 29/100\n45000/45000 [==============================] - 11s 247us/sample - loss: 0.9099 - accuracy: 0.6925 - val_loss: 1.6573 - val_accuracy: 0.5136\nEpoch 30/100\n45000/45000 [==============================] - 10s 217us/sample - loss: 0.8906 - accuracy: 0.6970 - val_loss: 1.6357 - val_accuracy: 0.5076\nEpoch 31/100\n45000/45000 [==============================] - 10s 217us/sample - loss: 1541.3886 - accuracy: 0.5272 - val_loss: 1.7321 - val_accuracy: 0.4118\nEpoch 32/100\n45000/45000 [==============================] - 9s 207us/sample - loss: 1.4420 - accuracy: 0.4870 - val_loss: 1.6625 - val_accuracy: 0.4232\nEpoch 33/100\n45000/45000 [==============================] - 9s 208us/sample - loss: 1.3572 - accuracy: 0.5169 - val_loss: 1.6111 - val_accuracy: 0.4532\n5000/5000 [==============================] - 0s 70us/sample - loss: 1.4705 - accuracy: 0.5098\n"
    },
    {
     "output_type": "execute_result",
     "data": {
      "text/plain": "[1.4705164905548096, 0.5098]"
     },
     "metadata": {},
     "execution_count": 16
    }
   ],
   "source": [
    "model.fit(X_train_scaled, y_train, epochs=100,\n",
    "          validation_data=(X_valid_scaled, y_valid),\n",
    "          callbacks=callbacks)\n",
    "\n",
    "model = keras.models.load_model(\"my_cifar10_selu_model.h5\")\n",
    "model.evaluate(X_valid_scaled, y_valid)"
   ]
  },
  {
   "cell_type": "markdown",
   "metadata": {},
   "source": [
    "- we get about 51% accuracy, which is better than the original model, but not quite as good as the model using batch normalization\n",
    "- moreover, it took just 33 epochs to reach the best model, which is much faster than both the original model and the BN model, plus each epoch took only 10 seconds\n",
    "- so this self-normalizing model is by far the fastest model to train (both in terms of epochs and wall time)"
   ]
  },
  {
   "cell_type": "markdown",
   "metadata": {},
   "source": [
    "*Exercise e): Try regularizing the model with alpha dropout. Then, without retraining your model, see if you can achieve better accuracy using MC Dropout.*"
   ]
  },
  {
   "cell_type": "code",
   "execution_count": 17,
   "metadata": {},
   "outputs": [],
   "source": [
    "# self-normalizing model with alpha dropout regularization\n",
    "keras.backend.clear_session()\n",
    "tf.random.set_seed(42)\n",
    "np.random.seed(42)\n",
    "\n",
    "model = keras.models.Sequential()\n",
    "model.add(keras.layers.Flatten(input_shape=[32, 32, 3]))\n",
    "for _ in range(20):\n",
    "    model.add(keras.layers.Dense(100,\n",
    "                                 kernel_initializer=\"lecun_normal\",\n",
    "                                 activation=\"selu\"))\n",
    "\n",
    "model.add(keras.layers.AlphaDropout(rate=0.1)) # added alpha dropout regularization\n",
    "model.add(keras.layers.Dense(10, activation=\"softmax\"))\n",
    "\n",
    "optimizer = keras.optimizers.Nadam(lr=5e-4) # adjusted learning rate\n",
    "model.compile(loss=\"sparse_categorical_crossentropy\",\n",
    "              optimizer=optimizer,\n",
    "              metrics=[\"accuracy\"])\n",
    "\n",
    "early_stopping_cb = keras.callbacks.EarlyStopping(patience=20) # still using early stopping for regularization (in addition to alpha dropout)\n",
    "model_checkpoint_cb = keras.callbacks.ModelCheckpoint(\"my_cifar10_alpha_dropout_model.h5\", save_best_only=True)\n",
    "callbacks = [early_stopping_cb, model_checkpoint_cb]\n",
    "\n",
    "X_means = X_train.mean(axis=0)\n",
    "X_stds = X_train.std(axis=0)\n",
    "X_train_scaled = (X_train - X_means) / X_stds\n",
    "X_valid_scaled = (X_valid - X_means) / X_stds\n",
    "X_test_scaled = (X_test - X_means) / X_stds"
   ]
  },
  {
   "cell_type": "code",
   "execution_count": 18,
   "metadata": {},
   "outputs": [
    {
     "output_type": "stream",
     "name": "stdout",
     "text": "Train on 45000 samples, validate on 5000 samples\nEpoch 1/100\n45000/45000 [==============================] - 14s 302us/sample - loss: 1.8873 - accuracy: 0.3251 - val_loss: 1.8362 - val_accuracy: 0.3620\nEpoch 2/100\n45000/45000 [==============================] - 11s 239us/sample - loss: 1.6645 - accuracy: 0.4064 - val_loss: 1.8438 - val_accuracy: 0.3938\nEpoch 3/100\n45000/45000 [==============================] - 11s 238us/sample - loss: 1.5783 - accuracy: 0.4409 - val_loss: 1.6460 - val_accuracy: 0.4396\nEpoch 4/100\n45000/45000 [==============================] - 11s 249us/sample - loss: 1.5054 - accuracy: 0.4696 - val_loss: 1.6054 - val_accuracy: 0.4524\nEpoch 5/100\n45000/45000 [==============================] - 11s 249us/sample - loss: 1.4486 - accuracy: 0.4914 - val_loss: 1.5197 - val_accuracy: 0.4772\nEpoch 6/100\n45000/45000 [==============================] - 13s 295us/sample - loss: 1.4003 - accuracy: 0.5082 - val_loss: 1.5230 - val_accuracy: 0.4840\nEpoch 7/100\n45000/45000 [==============================] - 12s 274us/sample - loss: 1.3542 - accuracy: 0.5267 - val_loss: 1.5424 - val_accuracy: 0.4892\nEpoch 8/100\n45000/45000 [==============================] - 12s 270us/sample - loss: 1.3119 - accuracy: 0.5416 - val_loss: 1.5110 - val_accuracy: 0.4926\nEpoch 9/100\n45000/45000 [==============================] - 10s 219us/sample - loss: 1.2802 - accuracy: 0.5542 - val_loss: 1.5865 - val_accuracy: 0.4996\nEpoch 10/100\n45000/45000 [==============================] - 11s 238us/sample - loss: 1.2510 - accuracy: 0.5631 - val_loss: 1.5114 - val_accuracy: 0.4974\nEpoch 11/100\n45000/45000 [==============================] - 10s 229us/sample - loss: 1.2186 - accuracy: 0.5739 - val_loss: 1.5880 - val_accuracy: 0.5030\nEpoch 12/100\n45000/45000 [==============================] - 10s 217us/sample - loss: 1.1866 - accuracy: 0.5910 - val_loss: 1.5524 - val_accuracy: 0.4962\nEpoch 13/100\n45000/45000 [==============================] - 10s 223us/sample - loss: 1.1627 - accuracy: 0.5995 - val_loss: 1.5513 - val_accuracy: 0.5044\nEpoch 14/100\n45000/45000 [==============================] - 10s 230us/sample - loss: 1.1334 - accuracy: 0.6062 - val_loss: 1.5862 - val_accuracy: 0.5122\nEpoch 15/100\n45000/45000 [==============================] - 11s 253us/sample - loss: 1.1071 - accuracy: 0.6145 - val_loss: 1.6501 - val_accuracy: 0.5038\nEpoch 16/100\n45000/45000 [==============================] - 12s 270us/sample - loss: 1.0840 - accuracy: 0.6261 - val_loss: 1.5904 - val_accuracy: 0.5076\nEpoch 17/100\n45000/45000 [==============================] - 11s 240us/sample - loss: 1.0619 - accuracy: 0.6325 - val_loss: 1.6273 - val_accuracy: 0.5040\nEpoch 18/100\n45000/45000 [==============================] - 11s 250us/sample - loss: 1.0358 - accuracy: 0.6406 - val_loss: 1.5981 - val_accuracy: 0.5094\nEpoch 19/100\n45000/45000 [==============================] - 13s 280us/sample - loss: 1.0192 - accuracy: 0.6503 - val_loss: 1.6680 - val_accuracy: 0.5122\nEpoch 20/100\n45000/45000 [==============================] - 11s 234us/sample - loss: 1.0013 - accuracy: 0.6571 - val_loss: 1.7061 - val_accuracy: 0.5042\nEpoch 21/100\n45000/45000 [==============================] - 11s 236us/sample - loss: 0.9735 - accuracy: 0.6664 - val_loss: 1.7511 - val_accuracy: 0.5058\nEpoch 22/100\n45000/45000 [==============================] - 12s 257us/sample - loss: 0.9585 - accuracy: 0.6709 - val_loss: 1.7418 - val_accuracy: 0.5036\nEpoch 23/100\n45000/45000 [==============================] - 11s 247us/sample - loss: 0.9513 - accuracy: 0.6764 - val_loss: 1.7188 - val_accuracy: 0.5182\nEpoch 24/100\n45000/45000 [==============================] - 12s 259us/sample - loss: 0.9219 - accuracy: 0.6838 - val_loss: 1.7124 - val_accuracy: 0.5072\nEpoch 25/100\n45000/45000 [==============================] - 10s 220us/sample - loss: 0.8967 - accuracy: 0.6925 - val_loss: 1.7564 - val_accuracy: 0.5090\nEpoch 26/100\n45000/45000 [==============================] - 10s 215us/sample - loss: 0.8917 - accuracy: 0.6954 - val_loss: 1.7609 - val_accuracy: 0.5028\nEpoch 27/100\n45000/45000 [==============================] - 10s 215us/sample - loss: 0.8736 - accuracy: 0.7019 - val_loss: 1.7219 - val_accuracy: 0.5062\nEpoch 28/100\n45000/45000 [==============================] - 10s 215us/sample - loss: 0.8615 - accuracy: 0.7096 - val_loss: 1.7501 - val_accuracy: 0.5068\n5000/5000 [==============================] - 0s 79us/sample - loss: 1.5110 - accuracy: 0.4926\n"
    },
    {
     "output_type": "execute_result",
     "data": {
      "text/plain": "[1.5110135913848877, 0.4926]"
     },
     "metadata": {},
     "execution_count": 18
    }
   ],
   "source": [
    "model.fit(X_train_scaled, y_train, epochs=100,\n",
    "          validation_data=(X_valid_scaled, y_valid),\n",
    "          callbacks=callbacks)\n",
    "\n",
    "# not using MC Dropout this first time around\n",
    "model = keras.models.load_model(\"my_cifar10_alpha_dropout_model.h5\")\n",
    "model.evaluate(X_valid_scaled, y_valid)"
   ]
  },
  {
   "cell_type": "markdown",
   "metadata": {},
   "source": [
    "- the model reaches about 49% accuracy on the validation set, which is slightly worse than without dropout (51%) \n",
    "- with an extensive hyperparameter search, it might be possible to do better (could try different dropout rates and different learning rates), but probably not much better in this case\n",
    "---\n",
    "- let's implement MC Dropout by using the `MCAlphaDropout` class:"
   ]
  },
  {
   "cell_type": "code",
   "execution_count": 19,
   "metadata": {},
   "outputs": [],
   "source": [
    "class MCAlphaDropout(keras.layers.AlphaDropout):\n",
    "    def call(self, inputs):\n",
    "        return super().call(inputs, training=True)"
   ]
  },
  {
   "cell_type": "markdown",
   "metadata": {},
   "source": [
    "- now let's create a new model, identical to the one we just trained (with the same weights), but with `MCAlphaDropout` dropout layers instead of `AlphaDropout` layers:"
   ]
  },
  {
   "cell_type": "code",
   "execution_count": 20,
   "metadata": {},
   "outputs": [],
   "source": [
    "mc_model = keras.models.Sequential([\n",
    "    MCAlphaDropout(layer.rate) if isinstance(layer, keras.layers.AlphaDropout) else layer\n",
    "    for layer in model.layers # as previous model is named 'model'\n",
    "])"
   ]
  },
  {
   "cell_type": "markdown",
   "metadata": {},
   "source": [
    "- then let's add a couple utility functions\n",
    "- the first will run the model many times (10 by default) and it will return the mean predicted class probabilities\n",
    "- the second will use these mean probabilities to predict the most likely class for each instance:"
   ]
  },
  {
   "cell_type": "code",
   "execution_count": 21,
   "metadata": {},
   "outputs": [],
   "source": [
    "def mc_dropout_predict_probas(mc_model, X, n_samples=10):\n",
    "    Y_probas = [mc_model.predict(X) for sample in range(n_samples)]\n",
    "    return np.mean(Y_probas, axis=0)\n",
    "\n",
    "def mc_dropout_predict_classes(mc_model, X, n_samples=10):\n",
    "    Y_probas = mc_dropout_predict_probas(mc_model, X, n_samples)\n",
    "    return np.argmax(Y_probas, axis=1)"
   ]
  },
  {
   "cell_type": "markdown",
   "metadata": {},
   "source": [
    "- now let's make predictions for all the instances in the validation set and compute the accuracy:"
   ]
  },
  {
   "cell_type": "code",
   "execution_count": 22,
   "metadata": {},
   "outputs": [
    {
     "output_type": "execute_result",
     "data": {
      "text/plain": "0.4922"
     },
     "metadata": {},
     "execution_count": 22
    }
   ],
   "source": [
    "# mandatory code when making final predictions using MC Dropout\n",
    "keras.backend.clear_session()\n",
    "tf.random.set_seed(42)\n",
    "np.random.seed(42)\n",
    "\n",
    "y_pred = mc_dropout_predict_classes(mc_model, X_valid_scaled)\n",
    "accuracy = np.mean(y_pred == y_valid[:, 0])\n",
    "accuracy"
   ]
  },
  {
   "cell_type": "markdown",
   "metadata": {},
   "source": [
    "- we see virtually no accuracy improvement with MC Dropout\n",
    "- so far, our model with batch normalization has yieled the best performance"
   ]
  },
  {
   "cell_type": "markdown",
   "metadata": {},
   "source": [
    "*Exercise f): Retrain your model using 1cycle scheduling and see if it improves training speed and model accuracy.*"
   ]
  },
  {
   "cell_type": "code",
   "execution_count": 24,
   "metadata": {},
   "outputs": [],
   "source": [
    "keras.backend.clear_session()\n",
    "tf.random.set_seed(42)\n",
    "np.random.seed(42)\n",
    "\n",
    "# temporary model used to find optimal learning rate\n",
    "model = keras.models.Sequential()\n",
    "model.add(keras.layers.Flatten(input_shape=[32, 32, 3]))\n",
    "for _ in range(20):\n",
    "    model.add(keras.layers.Dense(100,\n",
    "                                 kernel_initializer=\"lecun_normal\",\n",
    "                                 activation=\"selu\"))\n",
    "\n",
    "model.add(keras.layers.AlphaDropout(rate=0.1))\n",
    "model.add(keras.layers.Dense(10, activation=\"softmax\"))\n",
    "\n",
    "optimizer = keras.optimizers.SGD(lr=1e-3) # adjusted learning rate\n",
    "model.compile(loss=\"sparse_categorical_crossentropy\",\n",
    "              optimizer=optimizer,\n",
    "              metrics=[\"accuracy\"])"
   ]
  },
  {
   "cell_type": "code",
   "execution_count": 26,
   "metadata": {},
   "outputs": [],
   "source": [
    "K = keras.backend\n",
    "\n",
    "class ExponentialLearningRate(keras.callbacks.Callback):\n",
    "    def __init__(self, factor):\n",
    "        self.factor = factor\n",
    "        self.rates = []\n",
    "        self.losses = []\n",
    "    def on_batch_end(self, batch, logs):\n",
    "        self.rates.append(K.get_value(self.model.optimizer.lr))\n",
    "        self.losses.append(logs[\"loss\"])\n",
    "        K.set_value(self.model.optimizer.lr, self.model.optimizer.lr * self.factor)\n",
    "\n",
    "def find_learning_rate(model, X, y, epochs=1, batch_size=32, min_rate=10**-5, max_rate=10):\n",
    "    init_weights = model.get_weights()\n",
    "    iterations = len(X) // batch_size * epochs\n",
    "    factor = np.exp(np.log(max_rate / min_rate) / iterations)\n",
    "    init_lr = K.get_value(model.optimizer.lr)\n",
    "    K.set_value(model.optimizer.lr, min_rate)\n",
    "    exp_lr = ExponentialLearningRate(factor)\n",
    "    history = model.fit(X, y, epochs=epochs, batch_size=batch_size,\n",
    "                        callbacks=[exp_lr])\n",
    "    K.set_value(model.optimizer.lr, init_lr)\n",
    "    model.set_weights(init_weights)\n",
    "    return exp_lr.rates, exp_lr.losses\n",
    "\n",
    "def plot_lr_vs_loss(rates, losses):\n",
    "    plt.plot(rates, losses)\n",
    "    plt.gca().set_xscale('log')\n",
    "    plt.hlines(min(losses), min(rates), max(rates))\n",
    "    plt.axis([min(rates), max(rates), min(losses), (losses[0] + min(losses)) / 2])\n",
    "    plt.xlabel(\"Learning rate\")\n",
    "    plt.ylabel(\"Loss\")"
   ]
  },
  {
   "cell_type": "code",
   "execution_count": 28,
   "metadata": {},
   "outputs": [
    {
     "output_type": "stream",
     "name": "stdout",
     "text": "Train on 45000 samples\n45000/45000 [==============================] - 3s 64us/sample - loss: nan - accuracy: 0.1372\n"
    },
    {
     "output_type": "execute_result",
     "data": {
      "text/plain": "(9.999999747378752e-06,\n 9.999868392944336,\n 2.0244507789611816,\n 3.46649101802281)"
     },
     "metadata": {},
     "execution_count": 28
    },
    {
     "output_type": "display_data",
     "data": {
      "text/plain": "<Figure size 432x288 with 1 Axes>",
      "image/svg+xml": "<?xml version=\"1.0\" encoding=\"utf-8\" standalone=\"no\"?>\r\n<!DOCTYPE svg PUBLIC \"-//W3C//DTD SVG 1.1//EN\"\r\n  \"http://www.w3.org/Graphics/SVG/1.1/DTD/svg11.dtd\">\r\n<!-- Created with matplotlib (https://matplotlib.org/) -->\r\n<svg height=\"262.19625pt\" version=\"1.1\" viewBox=\"0 0 385.78125 262.19625\" width=\"385.78125pt\" xmlns=\"http://www.w3.org/2000/svg\" xmlns:xlink=\"http://www.w3.org/1999/xlink\">\r\n <defs>\r\n  <style type=\"text/css\">\r\n*{stroke-linecap:butt;stroke-linejoin:round;}\r\n  </style>\r\n </defs>\r\n <g id=\"figure_1\">\r\n  <g id=\"patch_1\">\r\n   <path d=\"M 0 262.19625 \r\nL 385.78125 262.19625 \r\nL 385.78125 0 \r\nL 0 0 \r\nz\r\n\" style=\"fill:none;\"/>\r\n  </g>\r\n  <g id=\"axes_1\">\r\n   <g id=\"patch_2\">\r\n    <path d=\"M 43.78125 224.64 \r\nL 378.58125 224.64 \r\nL 378.58125 7.2 \r\nL 43.78125 7.2 \r\nz\r\n\" style=\"fill:#ffffff;\"/>\r\n   </g>\r\n   <g id=\"matplotlib.axis_1\">\r\n    <g id=\"xtick_1\">\r\n     <g id=\"line2d_1\">\r\n      <defs>\r\n       <path d=\"M 0 0 \r\nL 0 3.5 \r\n\" id=\"m684767815b\" style=\"stroke:#000000;stroke-width:0.8;\"/>\r\n      </defs>\r\n      <g>\r\n       <use style=\"stroke:#000000;stroke-width:0.8;\" x=\"43.781251\" xlink:href=\"#m684767815b\" y=\"224.64\"/>\r\n      </g>\r\n     </g>\r\n     <g id=\"text_1\">\r\n      <!-- $\\mathdefault{10^{-5}}$ -->\r\n      <defs>\r\n       <path d=\"M 12.40625 8.296875 \r\nL 28.515625 8.296875 \r\nL 28.515625 63.921875 \r\nL 10.984375 60.40625 \r\nL 10.984375 69.390625 \r\nL 28.421875 72.90625 \r\nL 38.28125 72.90625 \r\nL 38.28125 8.296875 \r\nL 54.390625 8.296875 \r\nL 54.390625 0 \r\nL 12.40625 0 \r\nz\r\n\" id=\"DejaVuSans-49\"/>\r\n       <path d=\"M 31.78125 66.40625 \r\nQ 24.171875 66.40625 20.328125 58.90625 \r\nQ 16.5 51.421875 16.5 36.375 \r\nQ 16.5 21.390625 20.328125 13.890625 \r\nQ 24.171875 6.390625 31.78125 6.390625 \r\nQ 39.453125 6.390625 43.28125 13.890625 \r\nQ 47.125 21.390625 47.125 36.375 \r\nQ 47.125 51.421875 43.28125 58.90625 \r\nQ 39.453125 66.40625 31.78125 66.40625 \r\nz\r\nM 31.78125 74.21875 \r\nQ 44.046875 74.21875 50.515625 64.515625 \r\nQ 56.984375 54.828125 56.984375 36.375 \r\nQ 56.984375 17.96875 50.515625 8.265625 \r\nQ 44.046875 -1.421875 31.78125 -1.421875 \r\nQ 19.53125 -1.421875 13.0625 8.265625 \r\nQ 6.59375 17.96875 6.59375 36.375 \r\nQ 6.59375 54.828125 13.0625 64.515625 \r\nQ 19.53125 74.21875 31.78125 74.21875 \r\nz\r\n\" id=\"DejaVuSans-48\"/>\r\n       <path d=\"M 10.59375 35.5 \r\nL 73.1875 35.5 \r\nL 73.1875 27.203125 \r\nL 10.59375 27.203125 \r\nz\r\n\" id=\"DejaVuSans-8722\"/>\r\n       <path d=\"M 10.796875 72.90625 \r\nL 49.515625 72.90625 \r\nL 49.515625 64.59375 \r\nL 19.828125 64.59375 \r\nL 19.828125 46.734375 \r\nQ 21.96875 47.46875 24.109375 47.828125 \r\nQ 26.265625 48.1875 28.421875 48.1875 \r\nQ 40.625 48.1875 47.75 41.5 \r\nQ 54.890625 34.8125 54.890625 23.390625 \r\nQ 54.890625 11.625 47.5625 5.09375 \r\nQ 40.234375 -1.421875 26.90625 -1.421875 \r\nQ 22.3125 -1.421875 17.546875 -0.640625 \r\nQ 12.796875 0.140625 7.71875 1.703125 \r\nL 7.71875 11.625 \r\nQ 12.109375 9.234375 16.796875 8.0625 \r\nQ 21.484375 6.890625 26.703125 6.890625 \r\nQ 35.15625 6.890625 40.078125 11.328125 \r\nQ 45.015625 15.765625 45.015625 23.390625 \r\nQ 45.015625 31 40.078125 35.4375 \r\nQ 35.15625 39.890625 26.703125 39.890625 \r\nQ 22.75 39.890625 18.8125 39.015625 \r\nQ 14.890625 38.140625 10.796875 36.28125 \r\nz\r\n\" id=\"DejaVuSans-53\"/>\r\n      </defs>\r\n      <g transform=\"translate(32.031251 239.238437)scale(0.1 -0.1)\">\r\n       <use transform=\"translate(0 0.684375)\" xlink:href=\"#DejaVuSans-49\"/>\r\n       <use transform=\"translate(63.623047 0.684375)\" xlink:href=\"#DejaVuSans-48\"/>\r\n       <use transform=\"translate(128.203125 38.965625)scale(0.7)\" xlink:href=\"#DejaVuSans-8722\"/>\r\n       <use transform=\"translate(186.855469 38.965625)scale(0.7)\" xlink:href=\"#DejaVuSans-53\"/>\r\n      </g>\r\n     </g>\r\n    </g>\r\n    <g id=\"xtick_2\">\r\n     <g id=\"line2d_2\">\r\n      <g>\r\n       <use style=\"stroke:#000000;stroke-width:0.8;\" x=\"99.581304\" xlink:href=\"#m684767815b\" y=\"224.64\"/>\r\n      </g>\r\n     </g>\r\n     <g id=\"text_2\">\r\n      <!-- $\\mathdefault{10^{-4}}$ -->\r\n      <defs>\r\n       <path d=\"M 37.796875 64.3125 \r\nL 12.890625 25.390625 \r\nL 37.796875 25.390625 \r\nz\r\nM 35.203125 72.90625 \r\nL 47.609375 72.90625 \r\nL 47.609375 25.390625 \r\nL 58.015625 25.390625 \r\nL 58.015625 17.1875 \r\nL 47.609375 17.1875 \r\nL 47.609375 0 \r\nL 37.796875 0 \r\nL 37.796875 17.1875 \r\nL 4.890625 17.1875 \r\nL 4.890625 26.703125 \r\nz\r\n\" id=\"DejaVuSans-52\"/>\r\n      </defs>\r\n      <g transform=\"translate(87.831304 239.238437)scale(0.1 -0.1)\">\r\n       <use transform=\"translate(0 0.684375)\" xlink:href=\"#DejaVuSans-49\"/>\r\n       <use transform=\"translate(63.623047 0.684375)\" xlink:href=\"#DejaVuSans-48\"/>\r\n       <use transform=\"translate(128.203125 38.965625)scale(0.7)\" xlink:href=\"#DejaVuSans-8722\"/>\r\n       <use transform=\"translate(186.855469 38.965625)scale(0.7)\" xlink:href=\"#DejaVuSans-52\"/>\r\n      </g>\r\n     </g>\r\n    </g>\r\n    <g id=\"xtick_3\">\r\n     <g id=\"line2d_3\">\r\n      <g>\r\n       <use style=\"stroke:#000000;stroke-width:0.8;\" x=\"155.381357\" xlink:href=\"#m684767815b\" y=\"224.64\"/>\r\n      </g>\r\n     </g>\r\n     <g id=\"text_3\">\r\n      <!-- $\\mathdefault{10^{-3}}$ -->\r\n      <defs>\r\n       <path d=\"M 40.578125 39.3125 \r\nQ 47.65625 37.796875 51.625 33 \r\nQ 55.609375 28.21875 55.609375 21.1875 \r\nQ 55.609375 10.40625 48.1875 4.484375 \r\nQ 40.765625 -1.421875 27.09375 -1.421875 \r\nQ 22.515625 -1.421875 17.65625 -0.515625 \r\nQ 12.796875 0.390625 7.625 2.203125 \r\nL 7.625 11.71875 \r\nQ 11.71875 9.328125 16.59375 8.109375 \r\nQ 21.484375 6.890625 26.8125 6.890625 \r\nQ 36.078125 6.890625 40.9375 10.546875 \r\nQ 45.796875 14.203125 45.796875 21.1875 \r\nQ 45.796875 27.640625 41.28125 31.265625 \r\nQ 36.765625 34.90625 28.71875 34.90625 \r\nL 20.21875 34.90625 \r\nL 20.21875 43.015625 \r\nL 29.109375 43.015625 \r\nQ 36.375 43.015625 40.234375 45.921875 \r\nQ 44.09375 48.828125 44.09375 54.296875 \r\nQ 44.09375 59.90625 40.109375 62.90625 \r\nQ 36.140625 65.921875 28.71875 65.921875 \r\nQ 24.65625 65.921875 20.015625 65.03125 \r\nQ 15.375 64.15625 9.8125 62.3125 \r\nL 9.8125 71.09375 \r\nQ 15.4375 72.65625 20.34375 73.4375 \r\nQ 25.25 74.21875 29.59375 74.21875 \r\nQ 40.828125 74.21875 47.359375 69.109375 \r\nQ 53.90625 64.015625 53.90625 55.328125 \r\nQ 53.90625 49.265625 50.4375 45.09375 \r\nQ 46.96875 40.921875 40.578125 39.3125 \r\nz\r\n\" id=\"DejaVuSans-51\"/>\r\n      </defs>\r\n      <g transform=\"translate(143.631357 239.238437)scale(0.1 -0.1)\">\r\n       <use transform=\"translate(0 0.765625)\" xlink:href=\"#DejaVuSans-49\"/>\r\n       <use transform=\"translate(63.623047 0.765625)\" xlink:href=\"#DejaVuSans-48\"/>\r\n       <use transform=\"translate(128.203125 39.046875)scale(0.7)\" xlink:href=\"#DejaVuSans-8722\"/>\r\n       <use transform=\"translate(186.855469 39.046875)scale(0.7)\" xlink:href=\"#DejaVuSans-51\"/>\r\n      </g>\r\n     </g>\r\n    </g>\r\n    <g id=\"xtick_4\">\r\n     <g id=\"line2d_4\">\r\n      <g>\r\n       <use style=\"stroke:#000000;stroke-width:0.8;\" x=\"211.18141\" xlink:href=\"#m684767815b\" y=\"224.64\"/>\r\n      </g>\r\n     </g>\r\n     <g id=\"text_4\">\r\n      <!-- $\\mathdefault{10^{-2}}$ -->\r\n      <defs>\r\n       <path d=\"M 19.1875 8.296875 \r\nL 53.609375 8.296875 \r\nL 53.609375 0 \r\nL 7.328125 0 \r\nL 7.328125 8.296875 \r\nQ 12.9375 14.109375 22.625 23.890625 \r\nQ 32.328125 33.6875 34.8125 36.53125 \r\nQ 39.546875 41.84375 41.421875 45.53125 \r\nQ 43.3125 49.21875 43.3125 52.78125 \r\nQ 43.3125 58.59375 39.234375 62.25 \r\nQ 35.15625 65.921875 28.609375 65.921875 \r\nQ 23.96875 65.921875 18.8125 64.3125 \r\nQ 13.671875 62.703125 7.8125 59.421875 \r\nL 7.8125 69.390625 \r\nQ 13.765625 71.78125 18.9375 73 \r\nQ 24.125 74.21875 28.421875 74.21875 \r\nQ 39.75 74.21875 46.484375 68.546875 \r\nQ 53.21875 62.890625 53.21875 53.421875 \r\nQ 53.21875 48.921875 51.53125 44.890625 \r\nQ 49.859375 40.875 45.40625 35.40625 \r\nQ 44.1875 33.984375 37.640625 27.21875 \r\nQ 31.109375 20.453125 19.1875 8.296875 \r\nz\r\n\" id=\"DejaVuSans-50\"/>\r\n      </defs>\r\n      <g transform=\"translate(199.43141 239.238437)scale(0.1 -0.1)\">\r\n       <use transform=\"translate(0 0.765625)\" xlink:href=\"#DejaVuSans-49\"/>\r\n       <use transform=\"translate(63.623047 0.765625)\" xlink:href=\"#DejaVuSans-48\"/>\r\n       <use transform=\"translate(128.203125 39.046875)scale(0.7)\" xlink:href=\"#DejaVuSans-8722\"/>\r\n       <use transform=\"translate(186.855469 39.046875)scale(0.7)\" xlink:href=\"#DejaVuSans-50\"/>\r\n      </g>\r\n     </g>\r\n    </g>\r\n    <g id=\"xtick_5\">\r\n     <g id=\"line2d_5\">\r\n      <g>\r\n       <use style=\"stroke:#000000;stroke-width:0.8;\" x=\"266.981463\" xlink:href=\"#m684767815b\" y=\"224.64\"/>\r\n      </g>\r\n     </g>\r\n     <g id=\"text_5\">\r\n      <!-- $\\mathdefault{10^{-1}}$ -->\r\n      <g transform=\"translate(255.231463 239.238437)scale(0.1 -0.1)\">\r\n       <use transform=\"translate(0 0.684375)\" xlink:href=\"#DejaVuSans-49\"/>\r\n       <use transform=\"translate(63.623047 0.684375)\" xlink:href=\"#DejaVuSans-48\"/>\r\n       <use transform=\"translate(128.203125 38.965625)scale(0.7)\" xlink:href=\"#DejaVuSans-8722\"/>\r\n       <use transform=\"translate(186.855469 38.965625)scale(0.7)\" xlink:href=\"#DejaVuSans-49\"/>\r\n      </g>\r\n     </g>\r\n    </g>\r\n    <g id=\"xtick_6\">\r\n     <g id=\"line2d_6\">\r\n      <g>\r\n       <use style=\"stroke:#000000;stroke-width:0.8;\" x=\"322.781516\" xlink:href=\"#m684767815b\" y=\"224.64\"/>\r\n      </g>\r\n     </g>\r\n     <g id=\"text_6\">\r\n      <!-- $\\mathdefault{10^{0}}$ -->\r\n      <g transform=\"translate(313.981516 239.238437)scale(0.1 -0.1)\">\r\n       <use transform=\"translate(0 0.765625)\" xlink:href=\"#DejaVuSans-49\"/>\r\n       <use transform=\"translate(63.623047 0.765625)\" xlink:href=\"#DejaVuSans-48\"/>\r\n       <use transform=\"translate(128.203125 39.046875)scale(0.7)\" xlink:href=\"#DejaVuSans-48\"/>\r\n      </g>\r\n     </g>\r\n    </g>\r\n    <g id=\"xtick_7\">\r\n     <g id=\"line2d_7\">\r\n      <defs>\r\n       <path d=\"M 0 0 \r\nL 0 2 \r\n\" id=\"m33f6e45e38\" style=\"stroke:#000000;stroke-width:0.6;\"/>\r\n      </defs>\r\n      <g>\r\n       <use style=\"stroke:#000000;stroke-width:0.6;\" x=\"60.57874\" xlink:href=\"#m33f6e45e38\" y=\"224.64\"/>\r\n      </g>\r\n     </g>\r\n    </g>\r\n    <g id=\"xtick_8\">\r\n     <g id=\"line2d_8\">\r\n      <g>\r\n       <use style=\"stroke:#000000;stroke-width:0.6;\" x=\"70.404642\" xlink:href=\"#m33f6e45e38\" y=\"224.64\"/>\r\n      </g>\r\n     </g>\r\n    </g>\r\n    <g id=\"xtick_9\">\r\n     <g id=\"line2d_9\">\r\n      <g>\r\n       <use style=\"stroke:#000000;stroke-width:0.6;\" x=\"77.37623\" xlink:href=\"#m33f6e45e38\" y=\"224.64\"/>\r\n      </g>\r\n     </g>\r\n    </g>\r\n    <g id=\"xtick_10\">\r\n     <g id=\"line2d_10\">\r\n      <g>\r\n       <use style=\"stroke:#000000;stroke-width:0.6;\" x=\"82.783814\" xlink:href=\"#m33f6e45e38\" y=\"224.64\"/>\r\n      </g>\r\n     </g>\r\n    </g>\r\n    <g id=\"xtick_11\">\r\n     <g id=\"line2d_11\">\r\n      <g>\r\n       <use style=\"stroke:#000000;stroke-width:0.6;\" x=\"87.202132\" xlink:href=\"#m33f6e45e38\" y=\"224.64\"/>\r\n      </g>\r\n     </g>\r\n    </g>\r\n    <g id=\"xtick_12\">\r\n     <g id=\"line2d_12\">\r\n      <g>\r\n       <use style=\"stroke:#000000;stroke-width:0.6;\" x=\"90.937766\" xlink:href=\"#m33f6e45e38\" y=\"224.64\"/>\r\n      </g>\r\n     </g>\r\n    </g>\r\n    <g id=\"xtick_13\">\r\n     <g id=\"line2d_13\">\r\n      <g>\r\n       <use style=\"stroke:#000000;stroke-width:0.6;\" x=\"94.17372\" xlink:href=\"#m33f6e45e38\" y=\"224.64\"/>\r\n      </g>\r\n     </g>\r\n    </g>\r\n    <g id=\"xtick_14\">\r\n     <g id=\"line2d_14\">\r\n      <g>\r\n       <use style=\"stroke:#000000;stroke-width:0.6;\" x=\"97.028033\" xlink:href=\"#m33f6e45e38\" y=\"224.64\"/>\r\n      </g>\r\n     </g>\r\n    </g>\r\n    <g id=\"xtick_15\">\r\n     <g id=\"line2d_15\">\r\n      <g>\r\n       <use style=\"stroke:#000000;stroke-width:0.6;\" x=\"116.378793\" xlink:href=\"#m33f6e45e38\" y=\"224.64\"/>\r\n      </g>\r\n     </g>\r\n    </g>\r\n    <g id=\"xtick_16\">\r\n     <g id=\"line2d_16\">\r\n      <g>\r\n       <use style=\"stroke:#000000;stroke-width:0.6;\" x=\"126.204695\" xlink:href=\"#m33f6e45e38\" y=\"224.64\"/>\r\n      </g>\r\n     </g>\r\n    </g>\r\n    <g id=\"xtick_17\">\r\n     <g id=\"line2d_17\">\r\n      <g>\r\n       <use style=\"stroke:#000000;stroke-width:0.6;\" x=\"133.176283\" xlink:href=\"#m33f6e45e38\" y=\"224.64\"/>\r\n      </g>\r\n     </g>\r\n    </g>\r\n    <g id=\"xtick_18\">\r\n     <g id=\"line2d_18\">\r\n      <g>\r\n       <use style=\"stroke:#000000;stroke-width:0.6;\" x=\"138.583867\" xlink:href=\"#m33f6e45e38\" y=\"224.64\"/>\r\n      </g>\r\n     </g>\r\n    </g>\r\n    <g id=\"xtick_19\">\r\n     <g id=\"line2d_19\">\r\n      <g>\r\n       <use style=\"stroke:#000000;stroke-width:0.6;\" x=\"143.002185\" xlink:href=\"#m33f6e45e38\" y=\"224.64\"/>\r\n      </g>\r\n     </g>\r\n    </g>\r\n    <g id=\"xtick_20\">\r\n     <g id=\"line2d_20\">\r\n      <g>\r\n       <use style=\"stroke:#000000;stroke-width:0.6;\" x=\"146.737819\" xlink:href=\"#m33f6e45e38\" y=\"224.64\"/>\r\n      </g>\r\n     </g>\r\n    </g>\r\n    <g id=\"xtick_21\">\r\n     <g id=\"line2d_21\">\r\n      <g>\r\n       <use style=\"stroke:#000000;stroke-width:0.6;\" x=\"149.973773\" xlink:href=\"#m33f6e45e38\" y=\"224.64\"/>\r\n      </g>\r\n     </g>\r\n    </g>\r\n    <g id=\"xtick_22\">\r\n     <g id=\"line2d_22\">\r\n      <g>\r\n       <use style=\"stroke:#000000;stroke-width:0.6;\" x=\"152.828086\" xlink:href=\"#m33f6e45e38\" y=\"224.64\"/>\r\n      </g>\r\n     </g>\r\n    </g>\r\n    <g id=\"xtick_23\">\r\n     <g id=\"line2d_23\">\r\n      <g>\r\n       <use style=\"stroke:#000000;stroke-width:0.6;\" x=\"172.178846\" xlink:href=\"#m33f6e45e38\" y=\"224.64\"/>\r\n      </g>\r\n     </g>\r\n    </g>\r\n    <g id=\"xtick_24\">\r\n     <g id=\"line2d_24\">\r\n      <g>\r\n       <use style=\"stroke:#000000;stroke-width:0.6;\" x=\"182.004748\" xlink:href=\"#m33f6e45e38\" y=\"224.64\"/>\r\n      </g>\r\n     </g>\r\n    </g>\r\n    <g id=\"xtick_25\">\r\n     <g id=\"line2d_25\">\r\n      <g>\r\n       <use style=\"stroke:#000000;stroke-width:0.6;\" x=\"188.976336\" xlink:href=\"#m33f6e45e38\" y=\"224.64\"/>\r\n      </g>\r\n     </g>\r\n    </g>\r\n    <g id=\"xtick_26\">\r\n     <g id=\"line2d_26\">\r\n      <g>\r\n       <use style=\"stroke:#000000;stroke-width:0.6;\" x=\"194.38392\" xlink:href=\"#m33f6e45e38\" y=\"224.64\"/>\r\n      </g>\r\n     </g>\r\n    </g>\r\n    <g id=\"xtick_27\">\r\n     <g id=\"line2d_27\">\r\n      <g>\r\n       <use style=\"stroke:#000000;stroke-width:0.6;\" x=\"198.802238\" xlink:href=\"#m33f6e45e38\" y=\"224.64\"/>\r\n      </g>\r\n     </g>\r\n    </g>\r\n    <g id=\"xtick_28\">\r\n     <g id=\"line2d_28\">\r\n      <g>\r\n       <use style=\"stroke:#000000;stroke-width:0.6;\" x=\"202.537872\" xlink:href=\"#m33f6e45e38\" y=\"224.64\"/>\r\n      </g>\r\n     </g>\r\n    </g>\r\n    <g id=\"xtick_29\">\r\n     <g id=\"line2d_29\">\r\n      <g>\r\n       <use style=\"stroke:#000000;stroke-width:0.6;\" x=\"205.773826\" xlink:href=\"#m33f6e45e38\" y=\"224.64\"/>\r\n      </g>\r\n     </g>\r\n    </g>\r\n    <g id=\"xtick_30\">\r\n     <g id=\"line2d_30\">\r\n      <g>\r\n       <use style=\"stroke:#000000;stroke-width:0.6;\" x=\"208.628139\" xlink:href=\"#m33f6e45e38\" y=\"224.64\"/>\r\n      </g>\r\n     </g>\r\n    </g>\r\n    <g id=\"xtick_31\">\r\n     <g id=\"line2d_31\">\r\n      <g>\r\n       <use style=\"stroke:#000000;stroke-width:0.6;\" x=\"227.9789\" xlink:href=\"#m33f6e45e38\" y=\"224.64\"/>\r\n      </g>\r\n     </g>\r\n    </g>\r\n    <g id=\"xtick_32\">\r\n     <g id=\"line2d_32\">\r\n      <g>\r\n       <use style=\"stroke:#000000;stroke-width:0.6;\" x=\"237.804801\" xlink:href=\"#m33f6e45e38\" y=\"224.64\"/>\r\n      </g>\r\n     </g>\r\n    </g>\r\n    <g id=\"xtick_33\">\r\n     <g id=\"line2d_33\">\r\n      <g>\r\n       <use style=\"stroke:#000000;stroke-width:0.6;\" x=\"244.776389\" xlink:href=\"#m33f6e45e38\" y=\"224.64\"/>\r\n      </g>\r\n     </g>\r\n    </g>\r\n    <g id=\"xtick_34\">\r\n     <g id=\"line2d_34\">\r\n      <g>\r\n       <use style=\"stroke:#000000;stroke-width:0.6;\" x=\"250.183973\" xlink:href=\"#m33f6e45e38\" y=\"224.64\"/>\r\n      </g>\r\n     </g>\r\n    </g>\r\n    <g id=\"xtick_35\">\r\n     <g id=\"line2d_35\">\r\n      <g>\r\n       <use style=\"stroke:#000000;stroke-width:0.6;\" x=\"254.602291\" xlink:href=\"#m33f6e45e38\" y=\"224.64\"/>\r\n      </g>\r\n     </g>\r\n    </g>\r\n    <g id=\"xtick_36\">\r\n     <g id=\"line2d_36\">\r\n      <g>\r\n       <use style=\"stroke:#000000;stroke-width:0.6;\" x=\"258.337925\" xlink:href=\"#m33f6e45e38\" y=\"224.64\"/>\r\n      </g>\r\n     </g>\r\n    </g>\r\n    <g id=\"xtick_37\">\r\n     <g id=\"line2d_37\">\r\n      <g>\r\n       <use style=\"stroke:#000000;stroke-width:0.6;\" x=\"261.573879\" xlink:href=\"#m33f6e45e38\" y=\"224.64\"/>\r\n      </g>\r\n     </g>\r\n    </g>\r\n    <g id=\"xtick_38\">\r\n     <g id=\"line2d_38\">\r\n      <g>\r\n       <use style=\"stroke:#000000;stroke-width:0.6;\" x=\"264.428192\" xlink:href=\"#m33f6e45e38\" y=\"224.64\"/>\r\n      </g>\r\n     </g>\r\n    </g>\r\n    <g id=\"xtick_39\">\r\n     <g id=\"line2d_39\">\r\n      <g>\r\n       <use style=\"stroke:#000000;stroke-width:0.6;\" x=\"283.778953\" xlink:href=\"#m33f6e45e38\" y=\"224.64\"/>\r\n      </g>\r\n     </g>\r\n    </g>\r\n    <g id=\"xtick_40\">\r\n     <g id=\"line2d_40\">\r\n      <g>\r\n       <use style=\"stroke:#000000;stroke-width:0.6;\" x=\"293.604854\" xlink:href=\"#m33f6e45e38\" y=\"224.64\"/>\r\n      </g>\r\n     </g>\r\n    </g>\r\n    <g id=\"xtick_41\">\r\n     <g id=\"line2d_41\">\r\n      <g>\r\n       <use style=\"stroke:#000000;stroke-width:0.6;\" x=\"300.576442\" xlink:href=\"#m33f6e45e38\" y=\"224.64\"/>\r\n      </g>\r\n     </g>\r\n    </g>\r\n    <g id=\"xtick_42\">\r\n     <g id=\"line2d_42\">\r\n      <g>\r\n       <use style=\"stroke:#000000;stroke-width:0.6;\" x=\"305.984026\" xlink:href=\"#m33f6e45e38\" y=\"224.64\"/>\r\n      </g>\r\n     </g>\r\n    </g>\r\n    <g id=\"xtick_43\">\r\n     <g id=\"line2d_43\">\r\n      <g>\r\n       <use style=\"stroke:#000000;stroke-width:0.6;\" x=\"310.402344\" xlink:href=\"#m33f6e45e38\" y=\"224.64\"/>\r\n      </g>\r\n     </g>\r\n    </g>\r\n    <g id=\"xtick_44\">\r\n     <g id=\"line2d_44\">\r\n      <g>\r\n       <use style=\"stroke:#000000;stroke-width:0.6;\" x=\"314.137978\" xlink:href=\"#m33f6e45e38\" y=\"224.64\"/>\r\n      </g>\r\n     </g>\r\n    </g>\r\n    <g id=\"xtick_45\">\r\n     <g id=\"line2d_45\">\r\n      <g>\r\n       <use style=\"stroke:#000000;stroke-width:0.6;\" x=\"317.373932\" xlink:href=\"#m33f6e45e38\" y=\"224.64\"/>\r\n      </g>\r\n     </g>\r\n    </g>\r\n    <g id=\"xtick_46\">\r\n     <g id=\"line2d_46\">\r\n      <g>\r\n       <use style=\"stroke:#000000;stroke-width:0.6;\" x=\"320.228245\" xlink:href=\"#m33f6e45e38\" y=\"224.64\"/>\r\n      </g>\r\n     </g>\r\n    </g>\r\n    <g id=\"xtick_47\">\r\n     <g id=\"line2d_47\">\r\n      <g>\r\n       <use style=\"stroke:#000000;stroke-width:0.6;\" x=\"339.579006\" xlink:href=\"#m33f6e45e38\" y=\"224.64\"/>\r\n      </g>\r\n     </g>\r\n    </g>\r\n    <g id=\"xtick_48\">\r\n     <g id=\"line2d_48\">\r\n      <g>\r\n       <use style=\"stroke:#000000;stroke-width:0.6;\" x=\"349.404907\" xlink:href=\"#m33f6e45e38\" y=\"224.64\"/>\r\n      </g>\r\n     </g>\r\n    </g>\r\n    <g id=\"xtick_49\">\r\n     <g id=\"line2d_49\">\r\n      <g>\r\n       <use style=\"stroke:#000000;stroke-width:0.6;\" x=\"356.376495\" xlink:href=\"#m33f6e45e38\" y=\"224.64\"/>\r\n      </g>\r\n     </g>\r\n    </g>\r\n    <g id=\"xtick_50\">\r\n     <g id=\"line2d_50\">\r\n      <g>\r\n       <use style=\"stroke:#000000;stroke-width:0.6;\" x=\"361.784079\" xlink:href=\"#m33f6e45e38\" y=\"224.64\"/>\r\n      </g>\r\n     </g>\r\n    </g>\r\n    <g id=\"xtick_51\">\r\n     <g id=\"line2d_51\">\r\n      <g>\r\n       <use style=\"stroke:#000000;stroke-width:0.6;\" x=\"366.202397\" xlink:href=\"#m33f6e45e38\" y=\"224.64\"/>\r\n      </g>\r\n     </g>\r\n    </g>\r\n    <g id=\"xtick_52\">\r\n     <g id=\"line2d_52\">\r\n      <g>\r\n       <use style=\"stroke:#000000;stroke-width:0.6;\" x=\"369.938031\" xlink:href=\"#m33f6e45e38\" y=\"224.64\"/>\r\n      </g>\r\n     </g>\r\n    </g>\r\n    <g id=\"xtick_53\">\r\n     <g id=\"line2d_53\">\r\n      <g>\r\n       <use style=\"stroke:#000000;stroke-width:0.6;\" x=\"373.173985\" xlink:href=\"#m33f6e45e38\" y=\"224.64\"/>\r\n      </g>\r\n     </g>\r\n    </g>\r\n    <g id=\"xtick_54\">\r\n     <g id=\"line2d_54\">\r\n      <g>\r\n       <use style=\"stroke:#000000;stroke-width:0.6;\" x=\"376.028299\" xlink:href=\"#m33f6e45e38\" y=\"224.64\"/>\r\n      </g>\r\n     </g>\r\n    </g>\r\n    <g id=\"text_7\">\r\n     <!-- Learning rate -->\r\n     <defs>\r\n      <path d=\"M 9.8125 72.90625 \r\nL 19.671875 72.90625 \r\nL 19.671875 8.296875 \r\nL 55.171875 8.296875 \r\nL 55.171875 0 \r\nL 9.8125 0 \r\nz\r\n\" id=\"DejaVuSans-76\"/>\r\n      <path d=\"M 56.203125 29.59375 \r\nL 56.203125 25.203125 \r\nL 14.890625 25.203125 \r\nQ 15.484375 15.921875 20.484375 11.0625 \r\nQ 25.484375 6.203125 34.421875 6.203125 \r\nQ 39.59375 6.203125 44.453125 7.46875 \r\nQ 49.3125 8.734375 54.109375 11.28125 \r\nL 54.109375 2.78125 \r\nQ 49.265625 0.734375 44.1875 -0.34375 \r\nQ 39.109375 -1.421875 33.890625 -1.421875 \r\nQ 20.796875 -1.421875 13.15625 6.1875 \r\nQ 5.515625 13.8125 5.515625 26.8125 \r\nQ 5.515625 40.234375 12.765625 48.109375 \r\nQ 20.015625 56 32.328125 56 \r\nQ 43.359375 56 49.78125 48.890625 \r\nQ 56.203125 41.796875 56.203125 29.59375 \r\nz\r\nM 47.21875 32.234375 \r\nQ 47.125 39.59375 43.09375 43.984375 \r\nQ 39.0625 48.390625 32.421875 48.390625 \r\nQ 24.90625 48.390625 20.390625 44.140625 \r\nQ 15.875 39.890625 15.1875 32.171875 \r\nz\r\n\" id=\"DejaVuSans-101\"/>\r\n      <path d=\"M 34.28125 27.484375 \r\nQ 23.390625 27.484375 19.1875 25 \r\nQ 14.984375 22.515625 14.984375 16.5 \r\nQ 14.984375 11.71875 18.140625 8.90625 \r\nQ 21.296875 6.109375 26.703125 6.109375 \r\nQ 34.1875 6.109375 38.703125 11.40625 \r\nQ 43.21875 16.703125 43.21875 25.484375 \r\nL 43.21875 27.484375 \r\nz\r\nM 52.203125 31.203125 \r\nL 52.203125 0 \r\nL 43.21875 0 \r\nL 43.21875 8.296875 \r\nQ 40.140625 3.328125 35.546875 0.953125 \r\nQ 30.953125 -1.421875 24.3125 -1.421875 \r\nQ 15.921875 -1.421875 10.953125 3.296875 \r\nQ 6 8.015625 6 15.921875 \r\nQ 6 25.140625 12.171875 29.828125 \r\nQ 18.359375 34.515625 30.609375 34.515625 \r\nL 43.21875 34.515625 \r\nL 43.21875 35.40625 \r\nQ 43.21875 41.609375 39.140625 45 \r\nQ 35.0625 48.390625 27.6875 48.390625 \r\nQ 23 48.390625 18.546875 47.265625 \r\nQ 14.109375 46.140625 10.015625 43.890625 \r\nL 10.015625 52.203125 \r\nQ 14.9375 54.109375 19.578125 55.046875 \r\nQ 24.21875 56 28.609375 56 \r\nQ 40.484375 56 46.34375 49.84375 \r\nQ 52.203125 43.703125 52.203125 31.203125 \r\nz\r\n\" id=\"DejaVuSans-97\"/>\r\n      <path d=\"M 41.109375 46.296875 \r\nQ 39.59375 47.171875 37.8125 47.578125 \r\nQ 36.03125 48 33.890625 48 \r\nQ 26.265625 48 22.1875 43.046875 \r\nQ 18.109375 38.09375 18.109375 28.8125 \r\nL 18.109375 0 \r\nL 9.078125 0 \r\nL 9.078125 54.6875 \r\nL 18.109375 54.6875 \r\nL 18.109375 46.1875 \r\nQ 20.953125 51.171875 25.484375 53.578125 \r\nQ 30.03125 56 36.53125 56 \r\nQ 37.453125 56 38.578125 55.875 \r\nQ 39.703125 55.765625 41.0625 55.515625 \r\nz\r\n\" id=\"DejaVuSans-114\"/>\r\n      <path d=\"M 54.890625 33.015625 \r\nL 54.890625 0 \r\nL 45.90625 0 \r\nL 45.90625 32.71875 \r\nQ 45.90625 40.484375 42.875 44.328125 \r\nQ 39.84375 48.1875 33.796875 48.1875 \r\nQ 26.515625 48.1875 22.3125 43.546875 \r\nQ 18.109375 38.921875 18.109375 30.90625 \r\nL 18.109375 0 \r\nL 9.078125 0 \r\nL 9.078125 54.6875 \r\nL 18.109375 54.6875 \r\nL 18.109375 46.1875 \r\nQ 21.34375 51.125 25.703125 53.5625 \r\nQ 30.078125 56 35.796875 56 \r\nQ 45.21875 56 50.046875 50.171875 \r\nQ 54.890625 44.34375 54.890625 33.015625 \r\nz\r\n\" id=\"DejaVuSans-110\"/>\r\n      <path d=\"M 9.421875 54.6875 \r\nL 18.40625 54.6875 \r\nL 18.40625 0 \r\nL 9.421875 0 \r\nz\r\nM 9.421875 75.984375 \r\nL 18.40625 75.984375 \r\nL 18.40625 64.59375 \r\nL 9.421875 64.59375 \r\nz\r\n\" id=\"DejaVuSans-105\"/>\r\n      <path d=\"M 45.40625 27.984375 \r\nQ 45.40625 37.75 41.375 43.109375 \r\nQ 37.359375 48.484375 30.078125 48.484375 \r\nQ 22.859375 48.484375 18.828125 43.109375 \r\nQ 14.796875 37.75 14.796875 27.984375 \r\nQ 14.796875 18.265625 18.828125 12.890625 \r\nQ 22.859375 7.515625 30.078125 7.515625 \r\nQ 37.359375 7.515625 41.375 12.890625 \r\nQ 45.40625 18.265625 45.40625 27.984375 \r\nz\r\nM 54.390625 6.78125 \r\nQ 54.390625 -7.171875 48.1875 -13.984375 \r\nQ 42 -20.796875 29.203125 -20.796875 \r\nQ 24.46875 -20.796875 20.265625 -20.09375 \r\nQ 16.0625 -19.390625 12.109375 -17.921875 \r\nL 12.109375 -9.1875 \r\nQ 16.0625 -11.328125 19.921875 -12.34375 \r\nQ 23.78125 -13.375 27.78125 -13.375 \r\nQ 36.625 -13.375 41.015625 -8.765625 \r\nQ 45.40625 -4.15625 45.40625 5.171875 \r\nL 45.40625 9.625 \r\nQ 42.625 4.78125 38.28125 2.390625 \r\nQ 33.9375 0 27.875 0 \r\nQ 17.828125 0 11.671875 7.65625 \r\nQ 5.515625 15.328125 5.515625 27.984375 \r\nQ 5.515625 40.671875 11.671875 48.328125 \r\nQ 17.828125 56 27.875 56 \r\nQ 33.9375 56 38.28125 53.609375 \r\nQ 42.625 51.21875 45.40625 46.390625 \r\nL 45.40625 54.6875 \r\nL 54.390625 54.6875 \r\nz\r\n\" id=\"DejaVuSans-103\"/>\r\n      <path id=\"DejaVuSans-32\"/>\r\n      <path d=\"M 18.3125 70.21875 \r\nL 18.3125 54.6875 \r\nL 36.8125 54.6875 \r\nL 36.8125 47.703125 \r\nL 18.3125 47.703125 \r\nL 18.3125 18.015625 \r\nQ 18.3125 11.328125 20.140625 9.421875 \r\nQ 21.96875 7.515625 27.59375 7.515625 \r\nL 36.8125 7.515625 \r\nL 36.8125 0 \r\nL 27.59375 0 \r\nQ 17.1875 0 13.234375 3.875 \r\nQ 9.28125 7.765625 9.28125 18.015625 \r\nL 9.28125 47.703125 \r\nL 2.6875 47.703125 \r\nL 2.6875 54.6875 \r\nL 9.28125 54.6875 \r\nL 9.28125 70.21875 \r\nz\r\n\" id=\"DejaVuSans-116\"/>\r\n     </defs>\r\n     <g transform=\"translate(177.728125 252.916562)scale(0.1 -0.1)\">\r\n      <use xlink:href=\"#DejaVuSans-76\"/>\r\n      <use x=\"53.962891\" xlink:href=\"#DejaVuSans-101\"/>\r\n      <use x=\"115.486328\" xlink:href=\"#DejaVuSans-97\"/>\r\n      <use x=\"176.765625\" xlink:href=\"#DejaVuSans-114\"/>\r\n      <use x=\"216.128906\" xlink:href=\"#DejaVuSans-110\"/>\r\n      <use x=\"279.507812\" xlink:href=\"#DejaVuSans-105\"/>\r\n      <use x=\"307.291016\" xlink:href=\"#DejaVuSans-110\"/>\r\n      <use x=\"370.669922\" xlink:href=\"#DejaVuSans-103\"/>\r\n      <use x=\"434.146484\" xlink:href=\"#DejaVuSans-32\"/>\r\n      <use x=\"465.933594\" xlink:href=\"#DejaVuSans-114\"/>\r\n      <use x=\"507.046875\" xlink:href=\"#DejaVuSans-97\"/>\r\n      <use x=\"568.326172\" xlink:href=\"#DejaVuSans-116\"/>\r\n      <use x=\"607.535156\" xlink:href=\"#DejaVuSans-101\"/>\r\n     </g>\r\n    </g>\r\n   </g>\r\n   <g id=\"matplotlib.axis_2\">\r\n    <g id=\"ytick_1\">\r\n     <g id=\"line2d_55\">\r\n      <defs>\r\n       <path d=\"M 0 0 \r\nL -3.5 0 \r\n\" id=\"m4e6fca6037\" style=\"stroke:#000000;stroke-width:0.8;\"/>\r\n      </defs>\r\n      <g>\r\n       <use style=\"stroke:#000000;stroke-width:0.8;\" x=\"43.78125\" xlink:href=\"#m4e6fca6037\" y=\"198.169572\"/>\r\n      </g>\r\n     </g>\r\n     <g id=\"text_8\">\r\n      <!-- 2.2 -->\r\n      <defs>\r\n       <path d=\"M 10.6875 12.40625 \r\nL 21 12.40625 \r\nL 21 0 \r\nL 10.6875 0 \r\nz\r\n\" id=\"DejaVuSans-46\"/>\r\n      </defs>\r\n      <g transform=\"translate(20.878125 201.968791)scale(0.1 -0.1)\">\r\n       <use xlink:href=\"#DejaVuSans-50\"/>\r\n       <use x=\"63.623047\" xlink:href=\"#DejaVuSans-46\"/>\r\n       <use x=\"95.410156\" xlink:href=\"#DejaVuSans-50\"/>\r\n      </g>\r\n     </g>\r\n    </g>\r\n    <g id=\"ytick_2\">\r\n     <g id=\"line2d_56\">\r\n      <g>\r\n       <use style=\"stroke:#000000;stroke-width:0.8;\" x=\"43.78125\" xlink:href=\"#m4e6fca6037\" y=\"168.0123\"/>\r\n      </g>\r\n     </g>\r\n     <g id=\"text_9\">\r\n      <!-- 2.4 -->\r\n      <g transform=\"translate(20.878125 171.811518)scale(0.1 -0.1)\">\r\n       <use xlink:href=\"#DejaVuSans-50\"/>\r\n       <use x=\"63.623047\" xlink:href=\"#DejaVuSans-46\"/>\r\n       <use x=\"95.410156\" xlink:href=\"#DejaVuSans-52\"/>\r\n      </g>\r\n     </g>\r\n    </g>\r\n    <g id=\"ytick_3\">\r\n     <g id=\"line2d_57\">\r\n      <g>\r\n       <use style=\"stroke:#000000;stroke-width:0.8;\" x=\"43.78125\" xlink:href=\"#m4e6fca6037\" y=\"137.855027\"/>\r\n      </g>\r\n     </g>\r\n     <g id=\"text_10\">\r\n      <!-- 2.6 -->\r\n      <defs>\r\n       <path d=\"M 33.015625 40.375 \r\nQ 26.375 40.375 22.484375 35.828125 \r\nQ 18.609375 31.296875 18.609375 23.390625 \r\nQ 18.609375 15.53125 22.484375 10.953125 \r\nQ 26.375 6.390625 33.015625 6.390625 \r\nQ 39.65625 6.390625 43.53125 10.953125 \r\nQ 47.40625 15.53125 47.40625 23.390625 \r\nQ 47.40625 31.296875 43.53125 35.828125 \r\nQ 39.65625 40.375 33.015625 40.375 \r\nz\r\nM 52.59375 71.296875 \r\nL 52.59375 62.3125 \r\nQ 48.875 64.0625 45.09375 64.984375 \r\nQ 41.3125 65.921875 37.59375 65.921875 \r\nQ 27.828125 65.921875 22.671875 59.328125 \r\nQ 17.53125 52.734375 16.796875 39.40625 \r\nQ 19.671875 43.65625 24.015625 45.921875 \r\nQ 28.375 48.1875 33.59375 48.1875 \r\nQ 44.578125 48.1875 50.953125 41.515625 \r\nQ 57.328125 34.859375 57.328125 23.390625 \r\nQ 57.328125 12.15625 50.6875 5.359375 \r\nQ 44.046875 -1.421875 33.015625 -1.421875 \r\nQ 20.359375 -1.421875 13.671875 8.265625 \r\nQ 6.984375 17.96875 6.984375 36.375 \r\nQ 6.984375 53.65625 15.1875 63.9375 \r\nQ 23.390625 74.21875 37.203125 74.21875 \r\nQ 40.921875 74.21875 44.703125 73.484375 \r\nQ 48.484375 72.75 52.59375 71.296875 \r\nz\r\n\" id=\"DejaVuSans-54\"/>\r\n      </defs>\r\n      <g transform=\"translate(20.878125 141.654246)scale(0.1 -0.1)\">\r\n       <use xlink:href=\"#DejaVuSans-50\"/>\r\n       <use x=\"63.623047\" xlink:href=\"#DejaVuSans-46\"/>\r\n       <use x=\"95.410156\" xlink:href=\"#DejaVuSans-54\"/>\r\n      </g>\r\n     </g>\r\n    </g>\r\n    <g id=\"ytick_4\">\r\n     <g id=\"line2d_58\">\r\n      <g>\r\n       <use style=\"stroke:#000000;stroke-width:0.8;\" x=\"43.78125\" xlink:href=\"#m4e6fca6037\" y=\"107.697755\"/>\r\n      </g>\r\n     </g>\r\n     <g id=\"text_11\">\r\n      <!-- 2.8 -->\r\n      <defs>\r\n       <path d=\"M 31.78125 34.625 \r\nQ 24.75 34.625 20.71875 30.859375 \r\nQ 16.703125 27.09375 16.703125 20.515625 \r\nQ 16.703125 13.921875 20.71875 10.15625 \r\nQ 24.75 6.390625 31.78125 6.390625 \r\nQ 38.8125 6.390625 42.859375 10.171875 \r\nQ 46.921875 13.96875 46.921875 20.515625 \r\nQ 46.921875 27.09375 42.890625 30.859375 \r\nQ 38.875 34.625 31.78125 34.625 \r\nz\r\nM 21.921875 38.8125 \r\nQ 15.578125 40.375 12.03125 44.71875 \r\nQ 8.5 49.078125 8.5 55.328125 \r\nQ 8.5 64.0625 14.71875 69.140625 \r\nQ 20.953125 74.21875 31.78125 74.21875 \r\nQ 42.671875 74.21875 48.875 69.140625 \r\nQ 55.078125 64.0625 55.078125 55.328125 \r\nQ 55.078125 49.078125 51.53125 44.71875 \r\nQ 48 40.375 41.703125 38.8125 \r\nQ 48.828125 37.15625 52.796875 32.3125 \r\nQ 56.78125 27.484375 56.78125 20.515625 \r\nQ 56.78125 9.90625 50.3125 4.234375 \r\nQ 43.84375 -1.421875 31.78125 -1.421875 \r\nQ 19.734375 -1.421875 13.25 4.234375 \r\nQ 6.78125 9.90625 6.78125 20.515625 \r\nQ 6.78125 27.484375 10.78125 32.3125 \r\nQ 14.796875 37.15625 21.921875 38.8125 \r\nz\r\nM 18.3125 54.390625 \r\nQ 18.3125 48.734375 21.84375 45.5625 \r\nQ 25.390625 42.390625 31.78125 42.390625 \r\nQ 38.140625 42.390625 41.71875 45.5625 \r\nQ 45.3125 48.734375 45.3125 54.390625 \r\nQ 45.3125 60.0625 41.71875 63.234375 \r\nQ 38.140625 66.40625 31.78125 66.40625 \r\nQ 25.390625 66.40625 21.84375 63.234375 \r\nQ 18.3125 60.0625 18.3125 54.390625 \r\nz\r\n\" id=\"DejaVuSans-56\"/>\r\n      </defs>\r\n      <g transform=\"translate(20.878125 111.496974)scale(0.1 -0.1)\">\r\n       <use xlink:href=\"#DejaVuSans-50\"/>\r\n       <use x=\"63.623047\" xlink:href=\"#DejaVuSans-46\"/>\r\n       <use x=\"95.410156\" xlink:href=\"#DejaVuSans-56\"/>\r\n      </g>\r\n     </g>\r\n    </g>\r\n    <g id=\"ytick_5\">\r\n     <g id=\"line2d_59\">\r\n      <g>\r\n       <use style=\"stroke:#000000;stroke-width:0.8;\" x=\"43.78125\" xlink:href=\"#m4e6fca6037\" y=\"77.540483\"/>\r\n      </g>\r\n     </g>\r\n     <g id=\"text_12\">\r\n      <!-- 3.0 -->\r\n      <g transform=\"translate(20.878125 81.339702)scale(0.1 -0.1)\">\r\n       <use xlink:href=\"#DejaVuSans-51\"/>\r\n       <use x=\"63.623047\" xlink:href=\"#DejaVuSans-46\"/>\r\n       <use x=\"95.410156\" xlink:href=\"#DejaVuSans-48\"/>\r\n      </g>\r\n     </g>\r\n    </g>\r\n    <g id=\"ytick_6\">\r\n     <g id=\"line2d_60\">\r\n      <g>\r\n       <use style=\"stroke:#000000;stroke-width:0.8;\" x=\"43.78125\" xlink:href=\"#m4e6fca6037\" y=\"47.383211\"/>\r\n      </g>\r\n     </g>\r\n     <g id=\"text_13\">\r\n      <!-- 3.2 -->\r\n      <g transform=\"translate(20.878125 51.18243)scale(0.1 -0.1)\">\r\n       <use xlink:href=\"#DejaVuSans-51\"/>\r\n       <use x=\"63.623047\" xlink:href=\"#DejaVuSans-46\"/>\r\n       <use x=\"95.410156\" xlink:href=\"#DejaVuSans-50\"/>\r\n      </g>\r\n     </g>\r\n    </g>\r\n    <g id=\"ytick_7\">\r\n     <g id=\"line2d_61\">\r\n      <g>\r\n       <use style=\"stroke:#000000;stroke-width:0.8;\" x=\"43.78125\" xlink:href=\"#m4e6fca6037\" y=\"17.225939\"/>\r\n      </g>\r\n     </g>\r\n     <g id=\"text_14\">\r\n      <!-- 3.4 -->\r\n      <g transform=\"translate(20.878125 21.025157)scale(0.1 -0.1)\">\r\n       <use xlink:href=\"#DejaVuSans-51\"/>\r\n       <use x=\"63.623047\" xlink:href=\"#DejaVuSans-46\"/>\r\n       <use x=\"95.410156\" xlink:href=\"#DejaVuSans-52\"/>\r\n      </g>\r\n     </g>\r\n    </g>\r\n    <g id=\"text_15\">\r\n     <!-- Loss -->\r\n     <defs>\r\n      <path d=\"M 30.609375 48.390625 \r\nQ 23.390625 48.390625 19.1875 42.75 \r\nQ 14.984375 37.109375 14.984375 27.296875 \r\nQ 14.984375 17.484375 19.15625 11.84375 \r\nQ 23.34375 6.203125 30.609375 6.203125 \r\nQ 37.796875 6.203125 41.984375 11.859375 \r\nQ 46.1875 17.53125 46.1875 27.296875 \r\nQ 46.1875 37.015625 41.984375 42.703125 \r\nQ 37.796875 48.390625 30.609375 48.390625 \r\nz\r\nM 30.609375 56 \r\nQ 42.328125 56 49.015625 48.375 \r\nQ 55.71875 40.765625 55.71875 27.296875 \r\nQ 55.71875 13.875 49.015625 6.21875 \r\nQ 42.328125 -1.421875 30.609375 -1.421875 \r\nQ 18.84375 -1.421875 12.171875 6.21875 \r\nQ 5.515625 13.875 5.515625 27.296875 \r\nQ 5.515625 40.765625 12.171875 48.375 \r\nQ 18.84375 56 30.609375 56 \r\nz\r\n\" id=\"DejaVuSans-111\"/>\r\n      <path d=\"M 44.28125 53.078125 \r\nL 44.28125 44.578125 \r\nQ 40.484375 46.53125 36.375 47.5 \r\nQ 32.28125 48.484375 27.875 48.484375 \r\nQ 21.1875 48.484375 17.84375 46.4375 \r\nQ 14.5 44.390625 14.5 40.28125 \r\nQ 14.5 37.15625 16.890625 35.375 \r\nQ 19.28125 33.59375 26.515625 31.984375 \r\nL 29.59375 31.296875 \r\nQ 39.15625 29.25 43.1875 25.515625 \r\nQ 47.21875 21.78125 47.21875 15.09375 \r\nQ 47.21875 7.46875 41.1875 3.015625 \r\nQ 35.15625 -1.421875 24.609375 -1.421875 \r\nQ 20.21875 -1.421875 15.453125 -0.5625 \r\nQ 10.6875 0.296875 5.421875 2 \r\nL 5.421875 11.28125 \r\nQ 10.40625 8.6875 15.234375 7.390625 \r\nQ 20.0625 6.109375 24.8125 6.109375 \r\nQ 31.15625 6.109375 34.5625 8.28125 \r\nQ 37.984375 10.453125 37.984375 14.40625 \r\nQ 37.984375 18.0625 35.515625 20.015625 \r\nQ 33.0625 21.96875 24.703125 23.78125 \r\nL 21.578125 24.515625 \r\nQ 13.234375 26.265625 9.515625 29.90625 \r\nQ 5.8125 33.546875 5.8125 39.890625 \r\nQ 5.8125 47.609375 11.28125 51.796875 \r\nQ 16.75 56 26.8125 56 \r\nQ 31.78125 56 36.171875 55.265625 \r\nQ 40.578125 54.546875 44.28125 53.078125 \r\nz\r\n\" id=\"DejaVuSans-115\"/>\r\n     </defs>\r\n     <g transform=\"translate(14.798438 126.887187)rotate(-90)scale(0.1 -0.1)\">\r\n      <use xlink:href=\"#DejaVuSans-76\"/>\r\n      <use x=\"53.962891\" xlink:href=\"#DejaVuSans-111\"/>\r\n      <use x=\"115.144531\" xlink:href=\"#DejaVuSans-115\"/>\r\n      <use x=\"167.244141\" xlink:href=\"#DejaVuSans-115\"/>\r\n     </g>\r\n    </g>\r\n   </g>\r\n   <g id=\"LineCollection_1\">\r\n    <path clip-path=\"url(#pe4792f05e9)\" d=\"M 43.78125 224.64 \r\nL 378.58125 224.64 \r\n\" style=\"fill:none;stroke:#000000;stroke-width:1.5;\"/>\r\n   </g>\r\n   <g id=\"line2d_62\">\r\n    <path clip-path=\"url(#pe4792f05e9)\" d=\"M 43.78125 103.37974 \r\nL 44.735096 63.015855 \r\nL 45.688942 57.550048 \r\nL 46.642789 79.159935 \r\nL 47.596634 84.696312 \r\nL 48.55048 68.170764 \r\nL 49.504326 64.291766 \r\nL 50.458172 53.561365 \r\nL 51.412019 70.061317 \r\nL 52.365864 64.032241 \r\nL 53.31971 77.701612 \r\nL 54.273557 64.430714 \r\nL 56.181247 80.590001 \r\nL 57.135093 68.558236 \r\nL 58.08894 48.465343 \r\nL 59.042787 75.703209 \r\nL 59.996634 77.67882 \r\nL 60.950481 93.97141 \r\nL 61.904327 80.829465 \r\nL 62.858172 73.528721 \r\nL 63.812019 90.622858 \r\nL 64.765865 117.620576 \r\nL 65.719711 84.065529 \r\nL 66.673558 91.232826 \r\nL 67.627404 100.695477 \r\nL 68.58125 82.700138 \r\nL 69.535096 122.488027 \r\nL 70.488943 67.100489 \r\nL 71.44279 102.96304 \r\nL 72.396638 76.4811 \r\nL 73.350482 77.521034 \r\nL 74.304328 87.56385 \r\nL 75.258174 80.662189 \r\nL 76.212021 63.654116 \r\nL 77.165867 95.598376 \r\nL 78.119713 108.951816 \r\nL 79.07356 90.004082 \r\nL 80.027405 91.340354 \r\nL 80.981251 103.674963 \r\nL 81.935098 62.58021 \r\nL 82.888943 105.827917 \r\nL 83.842789 97.388052 \r\nL 84.796635 72.682307 \r\nL 85.750481 85.728517 \r\nL 86.704327 64.857587 \r\nL 87.658172 79.627037 \r\nL 88.612017 104.087888 \r\nL 89.565863 70.666791 \r\nL 90.519709 57.867129 \r\nL 91.473555 93.375355 \r\nL 92.427401 116.049477 \r\nL 93.381248 78.367339 \r\nL 94.335094 84.618013 \r\nL 95.28894 87.468366 \r\nL 96.242786 115.829965 \r\nL 97.196632 84.924309 \r\nL 98.150478 111.119042 \r\nL 100.05817 83.516029 \r\nL 101.012015 91.558859 \r\nL 101.965862 70.879545 \r\nL 102.919708 116.557599 \r\nL 103.873555 90.857038 \r\nL 104.827401 87.256151 \r\nL 105.781248 117.89139 \r\nL 106.735094 100.782117 \r\nL 107.68894 90.935122 \r\nL 108.642786 96.921058 \r\nL 109.596632 96.120625 \r\nL 110.550479 67.711032 \r\nL 111.504326 104.308802 \r\nL 112.458172 100.697777 \r\nL 113.412017 95.601575 \r\nL 114.365864 95.5172 \r\nL 115.31971 127.520058 \r\nL 116.273557 103.339691 \r\nL 117.227404 98.320746 \r\nL 118.18125 114.861105 \r\nL 119.135097 96.14579 \r\nL 120.088943 83.966809 \r\nL 121.04279 116.460641 \r\nL 121.996637 84.72838 \r\nL 122.950482 81.60991 \r\nL 123.904328 118.053849 \r\nL 125.81202 115.982718 \r\nL 126.765866 81.273631 \r\nL 127.719713 105.48718 \r\nL 128.67356 106.127131 \r\nL 129.627406 109.46364 \r\nL 130.581251 102.352137 \r\nL 131.535097 119.846042 \r\nL 132.488943 102.814817 \r\nL 133.442789 99.68815 \r\nL 134.396636 104.004232 \r\nL 135.350482 101.752846 \r\nL 136.304328 114.513179 \r\nL 137.258174 135.58241 \r\nL 138.212021 142.375033 \r\nL 139.165866 119.71015 \r\nL 140.119711 119.15727 \r\nL 141.073558 156.724619 \r\nL 142.027405 143.082714 \r\nL 142.981251 123.514227 \r\nL 143.935097 113.058307 \r\nL 144.888942 105.421391 \r\nL 145.842788 163.566387 \r\nL 146.796635 123.515917 \r\nL 147.750482 143.317721 \r\nL 148.704328 128.362733 \r\nL 149.658174 153.631602 \r\nL 150.612021 148.075344 \r\nL 151.565867 133.542304 \r\nL 152.519714 127.055293 \r\nL 153.47356 144.602512 \r\nL 154.427407 152.484429 \r\nL 155.381253 125.046033 \r\nL 156.3351 137.721666 \r\nL 157.288947 127.290264 \r\nL 158.242792 123.353817 \r\nL 159.196639 135.942775 \r\nL 160.150485 140.933248 \r\nL 161.10433 159.836619 \r\nL 162.058176 133.47238 \r\nL 163.012022 139.51465 \r\nL 163.965868 170.444465 \r\nL 164.919715 156.596133 \r\nL 165.873562 148.456776 \r\nL 166.827409 149.276514 \r\nL 167.781254 125.32134 \r\nL 168.735101 152.134992 \r\nL 169.688947 158.019332 \r\nL 170.642793 165.088018 \r\nL 171.596639 144.718811 \r\nL 172.550485 174.802357 \r\nL 173.50433 141.001266 \r\nL 174.458175 179.240058 \r\nL 175.412023 152.736728 \r\nL 176.365869 162.217102 \r\nL 177.319717 202.510524 \r\nL 178.273562 168.636813 \r\nL 179.227408 161.975372 \r\nL 180.181255 160.954744 \r\nL 181.135102 153.365246 \r\nL 182.088947 185.401287 \r\nL 183.042793 166.036099 \r\nL 183.996638 158.128585 \r\nL 184.950484 171.033474 \r\nL 185.904331 169.496528 \r\nL 186.858177 160.47452 \r\nL 188.76587 195.176309 \r\nL 189.719715 172.721231 \r\nL 190.673562 176.555364 \r\nL 191.627409 177.362339 \r\nL 192.581256 174.97801 \r\nL 193.535101 178.450662 \r\nL 194.488948 180.13752 \r\nL 195.442795 194.311921 \r\nL 197.350488 179.365309 \r\nL 198.304334 198.866173 \r\nL 199.25818 174.188398 \r\nL 200.212026 176.469478 \r\nL 201.165872 188.975786 \r\nL 202.119718 152.722671 \r\nL 203.073565 192.323368 \r\nL 204.027411 218.634507 \r\nL 204.981257 185.986198 \r\nL 205.935103 209.620121 \r\nL 206.888949 184.297614 \r\nL 207.842795 175.381012 \r\nL 208.796641 196.040194 \r\nL 209.750487 201.181478 \r\nL 210.704334 145.874469 \r\nL 211.658181 183.07135 \r\nL 212.612026 191.649156 \r\nL 213.565873 186.247341 \r\nL 214.519719 186.13798 \r\nL 215.473564 209.078782 \r\nL 216.427411 208.402593 \r\nL 217.381257 207.492584 \r\nL 218.335102 193.201705 \r\nL 219.288948 189.922033 \r\nL 220.242795 169.049163 \r\nL 221.196641 194.531793 \r\nL 222.150487 208.380664 \r\nL 223.104334 185.462906 \r\nL 224.05818 192.143077 \r\nL 225.012026 180.236204 \r\nL 225.965872 179.524424 \r\nL 226.919719 148.859419 \r\nL 227.873565 185.428214 \r\nL 228.827411 194.965784 \r\nL 229.781257 161.913538 \r\nL 230.735103 222.665683 \r\nL 231.688948 198.451019 \r\nL 232.642795 206.385747 \r\nL 233.59664 204.592871 \r\nL 234.550487 224.64 \r\nL 235.504332 178.135737 \r\nL 236.458179 194.185556 \r\nL 237.412024 200.03053 \r\nL 238.365871 173.960006 \r\nL 239.319716 165.100493 \r\nL 240.273561 184.274677 \r\nL 241.227407 181.693412 \r\nL 242.181253 182.160873 \r\nL 243.135099 176.968073 \r\nL 244.088945 174.298585 \r\nL 245.042792 191.628053 \r\nL 245.996638 170.051888 \r\nL 246.950485 201.134455 \r\nL 247.904331 212.63412 \r\nL 248.858176 176.341963 \r\nL 250.765868 145.379074 \r\nL 251.719714 191.699595 \r\nL 252.673559 184.426963 \r\nL 253.627406 203.919019 \r\nL 254.581253 183.17255 \r\nL 255.535099 131.436696 \r\nL 256.488946 137.53264 \r\nL 257.442791 179.581693 \r\nL 258.396638 187.382902 \r\nL 259.350483 182.548561 \r\nL 260.304329 170.384392 \r\nL 261.258176 130.477112 \r\nL 262.212021 173.034214 \r\nL 263.165866 138.359352 \r\nL 264.119712 147.013301 \r\nL 265.073559 141.627232 \r\nL 266.027406 171.017224 \r\nL 266.981252 132.601593 \r\nL 267.935098 184.24225 \r\nL 268.888944 129.49646 \r\nL 269.84279 155.841681 \r\nL 270.796636 166.789005 \r\nL 271.750483 143.984383 \r\nL 272.70433 128.596913 \r\nL 273.658176 84.463319 \r\nL 274.612021 18.89035 \r\nL 275.565868 84.885914 \r\nL 276.519714 95.958058 \r\nL 277.47356 70.188221 \r\nL 278.427406 108.732879 \r\nL 279.381253 88.214334 \r\nL 280.335101 101.603005 \r\nL 281.288947 57.4285 \r\nL 282.242793 107.80529 \r\nL 283.196638 2.557675 \r\nL 284.150485 95.696232 \r\nL 284.794553 -1 \r\nM 285.933463 -1 \r\nL 286.058178 5.995563 \r\nL 286.095138 -1 \r\nM 287.731879 -1 \r\nL 287.965871 55.410935 \r\nL 288.919717 35.31157 \r\nL 289.036583 -1 \r\nL 289.036583 -1 \r\n\" style=\"fill:none;stroke:#1f77b4;stroke-linecap:square;stroke-width:1.5;\"/>\r\n   </g>\r\n   <g id=\"patch_3\">\r\n    <path d=\"M 43.78125 224.64 \r\nL 43.78125 7.2 \r\n\" style=\"fill:none;stroke:#000000;stroke-linecap:square;stroke-linejoin:miter;stroke-width:0.8;\"/>\r\n   </g>\r\n   <g id=\"patch_4\">\r\n    <path d=\"M 378.58125 224.64 \r\nL 378.58125 7.2 \r\n\" style=\"fill:none;stroke:#000000;stroke-linecap:square;stroke-linejoin:miter;stroke-width:0.8;\"/>\r\n   </g>\r\n   <g id=\"patch_5\">\r\n    <path d=\"M 43.78125 224.64 \r\nL 378.58125 224.64 \r\n\" style=\"fill:none;stroke:#000000;stroke-linecap:square;stroke-linejoin:miter;stroke-width:0.8;\"/>\r\n   </g>\r\n   <g id=\"patch_6\">\r\n    <path d=\"M 43.78125 7.2 \r\nL 378.58125 7.2 \r\n\" style=\"fill:none;stroke:#000000;stroke-linecap:square;stroke-linejoin:miter;stroke-width:0.8;\"/>\r\n   </g>\r\n  </g>\r\n </g>\r\n <defs>\r\n  <clipPath id=\"pe4792f05e9\">\r\n   <rect height=\"217.44\" width=\"334.8\" x=\"43.78125\" y=\"7.2\"/>\r\n  </clipPath>\r\n </defs>\r\n</svg>\r\n",
      "image/png": "[encoded data removed]"
     },
     "metadata": {
      "needs_background": "light"
     }
    }
   ],
   "source": [
    "from matplotlib import pyplot as plt\n",
    "\n",
    "# 1cycle learning rate scheduling (to find the optimal learning rate)\n",
    "batch_size = 128\n",
    "rates, losses = find_learning_rate(model, X_train_scaled, y_train, epochs=1, batch_size=batch_size)\n",
    "plot_lr_vs_loss(rates, losses)\n",
    "plt.axis([min(rates), max(rates), min(losses), (losses[0] + min(losses)) / 1.4])"
   ]
  },
  {
   "cell_type": "code",
   "execution_count": 29,
   "metadata": {},
   "outputs": [],
   "source": [
    "keras.backend.clear_session()\n",
    "tf.random.set_seed(42)\n",
    "np.random.seed(42)\n",
    "\n",
    "model = keras.models.Sequential()\n",
    "model.add(keras.layers.Flatten(input_shape=[32, 32, 3]))\n",
    "for _ in range(20):\n",
    "    model.add(keras.layers.Dense(100,\n",
    "                                 kernel_initializer=\"lecun_normal\",\n",
    "                                 activation=\"selu\"))\n",
    "\n",
    "model.add(keras.layers.AlphaDropout(rate=0.1)) # using alpha dropout for regularization (no longer using early stopping as well)\n",
    "model.add(keras.layers.Dense(10, activation=\"softmax\"))\n",
    "\n",
    "optimizer = keras.optimizers.SGD(lr=1e-2) # adjusted 'optimal' learning rate\n",
    "model.compile(loss=\"sparse_categorical_crossentropy\",\n",
    "              optimizer=optimizer,\n",
    "              metrics=[\"accuracy\"])"
   ]
  },
  {
   "cell_type": "code",
   "execution_count": 31,
   "metadata": {},
   "outputs": [],
   "source": [
    "class OneCycleScheduler(keras.callbacks.Callback):\n",
    "    def __init__(self, iterations, max_rate, start_rate=None,\n",
    "                 last_iterations=None, last_rate=None):\n",
    "        self.iterations = iterations\n",
    "        self.max_rate = max_rate\n",
    "        self.start_rate = start_rate or max_rate / 10\n",
    "        self.last_iterations = last_iterations or iterations // 10 + 1\n",
    "        self.half_iteration = (iterations - self.last_iterations) // 2\n",
    "        self.last_rate = last_rate or self.start_rate / 1000\n",
    "        self.iteration = 0\n",
    "    def _interpolate(self, iter1, iter2, rate1, rate2):\n",
    "        return ((rate2 - rate1) * (self.iteration - iter1)\n",
    "                / (iter2 - iter1) + rate1)\n",
    "    def on_batch_begin(self, batch, logs):\n",
    "        if self.iteration < self.half_iteration:\n",
    "            rate = self._interpolate(0, self.half_iteration, self.start_rate, self.max_rate)\n",
    "        elif self.iteration < 2 * self.half_iteration:\n",
    "            rate = self._interpolate(self.half_iteration, 2 * self.half_iteration,\n",
    "                                     self.max_rate, self.start_rate)\n",
    "        else:\n",
    "            rate = self._interpolate(2 * self.half_iteration, self.iterations,\n",
    "                                     self.start_rate, self.last_rate)\n",
    "            rate = max(rate, self.last_rate)\n",
    "        self.iteration += 1\n",
    "        K.set_value(self.model.optimizer.lr, rate)"
   ]
  },
  {
   "cell_type": "code",
   "execution_count": 32,
   "metadata": {},
   "outputs": [
    {
     "output_type": "stream",
     "name": "stdout",
     "text": "Train on 45000 samples, validate on 5000 samples\nEpoch 1/15\n45000/45000 [==============================] - 4s 88us/sample - loss: 2.0500 - accuracy: 0.2847 - val_loss: 1.7534 - val_accuracy: 0.3740\nEpoch 2/15\n45000/45000 [==============================] - 3s 74us/sample - loss: 1.7574 - accuracy: 0.3778 - val_loss: 1.7232 - val_accuracy: 0.4040\nEpoch 3/15\n45000/45000 [==============================] - 3s 75us/sample - loss: 1.6206 - accuracy: 0.4253 - val_loss: 1.7244 - val_accuracy: 0.4126\nEpoch 4/15\n45000/45000 [==============================] - 3s 70us/sample - loss: 1.5451 - accuracy: 0.4502 - val_loss: 1.6185 - val_accuracy: 0.4390\nEpoch 5/15\n45000/45000 [==============================] - 3s 70us/sample - loss: 1.4928 - accuracy: 0.4721 - val_loss: 1.5484 - val_accuracy: 0.4570\nEpoch 6/15\n45000/45000 [==============================] - 3s 71us/sample - loss: 1.4496 - accuracy: 0.4866 - val_loss: 1.5832 - val_accuracy: 0.4472\nEpoch 7/15\n45000/45000 [==============================] - 3s 69us/sample - loss: 1.4203 - accuracy: 0.4962 - val_loss: 1.6317 - val_accuracy: 0.4462\nEpoch 8/15\n45000/45000 [==============================] - 3s 68us/sample - loss: 1.3490 - accuracy: 0.5206 - val_loss: 1.5477 - val_accuracy: 0.4748\nEpoch 9/15\n45000/45000 [==============================] - 3s 69us/sample - loss: 1.2744 - accuracy: 0.5457 - val_loss: 1.5323 - val_accuracy: 0.4890\nEpoch 10/15\n45000/45000 [==============================] - 3s 63us/sample - loss: 1.2066 - accuracy: 0.5689 - val_loss: 1.5097 - val_accuracy: 0.4992\nEpoch 11/15\n45000/45000 [==============================] - 3s 60us/sample - loss: 1.1359 - accuracy: 0.5936 - val_loss: 1.5199 - val_accuracy: 0.5110\nEpoch 12/15\n45000/45000 [==============================] - 3s 61us/sample - loss: 1.0669 - accuracy: 0.6170 - val_loss: 1.4936 - val_accuracy: 0.5174\nEpoch 13/15\n45000/45000 [==============================] - 3s 59us/sample - loss: 0.9974 - accuracy: 0.6437 - val_loss: 1.5324 - val_accuracy: 0.5216\nEpoch 14/15\n45000/45000 [==============================] - 3s 61us/sample - loss: 0.9333 - accuracy: 0.6649 - val_loss: 1.5452 - val_accuracy: 0.5270\nEpoch 15/15\n45000/45000 [==============================] - 3s 60us/sample - loss: 0.8928 - accuracy: 0.6812 - val_loss: 1.5653 - val_accuracy: 0.5298\n"
    }
   ],
   "source": [
    "n_epochs = 15\n",
    "onecycle = OneCycleScheduler(len(X_train_scaled) // batch_size * n_epochs, max_rate=0.05) # still using scaled data\n",
    "history = model.fit(X_train_scaled, y_train, epochs=n_epochs, batch_size=batch_size,\n",
    "                    validation_data=(X_valid_scaled, y_valid),\n",
    "                    callbacks=[onecycle])"
   ]
  },
  {
   "cell_type": "markdown",
   "metadata": {},
   "source": [
    "- 1cycle learning rate scheduling allowed us to train the model in just 15 epochs, each taking only 3 seconds (thanks to the larger batch size, which is over 3 times faster than the fastest model we trained so far\n",
    "- moreover, we improved the model's performance (from 50.8% to 52.8%)\n",
    "- the batch normalized model reaches a slightly better performance, but it's much slower to train\n",
    "- overall, this self-normalizing model with 1cycle learning rate schedule is definitely the best bang for our buck"
   ]
  }
 ],
 "metadata": {
  "language_info": {
   "codemirror_mode": {
    "name": "ipython",
    "version": 3
   },
   "file_extension": ".py",
   "mimetype": "text/x-python",
   "name": "python",
   "nbconvert_exporter": "python",
   "pygments_lexer": "ipython3",
   "version": "3.6.10-final"
  },
  "orig_nbformat": 2,
  "kernelspec": {
   "name": "python3",
   "display_name": "Python 3"
  }
 },
 "nbformat": 4,
 "nbformat_minor": 2
}